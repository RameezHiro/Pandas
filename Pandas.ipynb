{
  "nbformat": 4,
  "nbformat_minor": 0,
  "metadata": {
    "colab": {
      "provenance": [],
      "authorship_tag": "ABX9TyPSwpBKq6DeQZP/1MQ6jfpu",
      "include_colab_link": true
    },
    "kernelspec": {
      "name": "python3",
      "display_name": "Python 3"
    },
    "language_info": {
      "name": "python"
    }
  },
  "cells": [
    {
      "cell_type": "markdown",
      "metadata": {
        "id": "view-in-github",
        "colab_type": "text"
      },
      "source": [
        "<a href=\"https://colab.research.google.com/github/RameezHiro/Pandas/blob/main/Pandas.ipynb\" target=\"_parent\"><img src=\"https://colab.research.google.com/assets/colab-badge.svg\" alt=\"Open In Colab\"/></a>"
      ]
    },
    {
      "cell_type": "markdown",
      "source": [
        "# Pandas"
      ],
      "metadata": {
        "id": "PoOtMM9UFcUA"
      }
    },
    {
      "cell_type": "markdown",
      "source": [],
      "metadata": {
        "id": "zbkAAKneFmD0"
      }
    },
    {
      "cell_type": "markdown",
      "source": [
        "# DataFrame"
      ],
      "metadata": {
        "id": "Cz-deQSJJQ3R"
      }
    },
    {
      "cell_type": "code",
      "source": [
        "import pandas as pd\n",
        "\n",
        "data = {\n",
        "    \"Name\": [\"Spongebob\", \"Patrick\", \"Squidward\"],\n",
        "    \"Age\": [30, 35, 45]\n",
        "}\n",
        "\n",
        "df = pd.DataFrame(data)\n",
        "\n",
        "print(df)"
      ],
      "metadata": {
        "id": "qsXZldE0FYNX",
        "colab": {
          "base_uri": "https://localhost:8080/"
        },
        "outputId": "ca2af044-f262-44a1-c71e-c7772ce5fc12"
      },
      "execution_count": null,
      "outputs": [
        {
          "output_type": "stream",
          "name": "stdout",
          "text": [
            "        Name  Age\n",
            "0  Spongebob   30\n",
            "1    Patrick   35\n",
            "2  Squidward   45\n"
          ]
        }
      ]
    },
    {
      "cell_type": "markdown",
      "source": [],
      "metadata": {
        "id": "Ua-BlnA5FW2y"
      }
    },
    {
      "cell_type": "code",
      "execution_count": null,
      "metadata": {
        "id": "jbUpncQAFN2v",
        "colab": {
          "base_uri": "https://localhost:8080/"
        },
        "outputId": "75706451-4fcc-4019-bdfc-426af508e263"
      },
      "outputs": [
        {
          "output_type": "stream",
          "name": "stdout",
          "text": [
            "Name    Squidward\n",
            "Age            45\n",
            "Name: Employee 3, dtype: object\n"
          ]
        }
      ],
      "source": [
        "import pandas as pd\n",
        "\n",
        "data = {\n",
        "    \"Name\": [\"Spongebob\", \"Patrick\", \"Squidward\"],\n",
        "    \"Age\": [30, 35, 45]\n",
        "}\n",
        "\n",
        "df = pd.DataFrame(data, index=[\"Employee 1\", \"Employee 2\", \"Employee 3\"])\n",
        "\n",
        "print(df.loc[\"Employee 3\"])"
      ]
    },
    {
      "cell_type": "code",
      "source": [
        "import pandas as pd\n",
        "\n",
        "data = {\n",
        "    \"Name\": [\"Spongebob\", \"Patrick\", \"Squidward\"],\n",
        "    \"Age\": [30, 35, 45]\n",
        "}\n",
        "\n",
        "df = pd.DataFrame(data, index=[\"Employee 1\", \"Employee 2\", \"Employee 3\"])\n",
        "\n",
        "print(df.iloc[0])"
      ],
      "metadata": {
        "colab": {
          "base_uri": "https://localhost:8080/"
        },
        "id": "sF-Ou7KIKt3V",
        "outputId": "3202d0ca-742a-4c96-9867-48f1ef25be66"
      },
      "execution_count": null,
      "outputs": [
        {
          "output_type": "stream",
          "name": "stdout",
          "text": [
            "Name    Spongebob\n",
            "Age            30\n",
            "Name: Employee 1, dtype: object\n"
          ]
        }
      ]
    },
    {
      "cell_type": "code",
      "source": [
        "import pandas as pd\n",
        "\n",
        "data = {\n",
        "    \"Name\": [\"Spongebob\", \"Patrick\", \"Squidward\"],\n",
        "    \"Age\": [30, 35, 45]\n",
        "}\n",
        "\n",
        "df = pd.DataFrame(data, index=[\"Employee 1\", \"Employee 2\", \"Employee 3\"])\n",
        "\n",
        "# Add a new column\n",
        "df[\"Job\"] = [\"Cook\", \"N/A\", \"Cashier\"]\n",
        "\n",
        "# Add a new row\n",
        "new_row = pd.DataFrame([{\"Name\":\"Sandy\", \"Age\":28, \"Job\":\"Engineer\"},\n",
        "                        {\"Name\":\"Krab\", \"Age\":60, \"Job\":\"Manager\"} ],\n",
        "                       index =[\"Employee 4\", \"Employee 5\"])\n",
        "\n",
        "df = pd.concat([df, new_row])\n",
        "\n",
        "print(df)"
      ],
      "metadata": {
        "colab": {
          "base_uri": "https://localhost:8080/"
        },
        "id": "kAj8aGZsK_Pg",
        "outputId": "42b8e7c3-6c6d-4e72-ac69-481e1ec7e024"
      },
      "execution_count": null,
      "outputs": [
        {
          "output_type": "stream",
          "name": "stdout",
          "text": [
            "                 Name  Age       Job\n",
            "Employee 1  Spongebob   30      Cook\n",
            "Employee 2    Patrick   35       N/A\n",
            "Employee 3  Squidward   45   Cashier\n",
            "Employee 4      Sandy   28  Engineer\n",
            "Employee 5       Krab   60   Manager\n"
          ]
        }
      ]
    },
    {
      "cell_type": "markdown",
      "source": [
        "# Importing"
      ],
      "metadata": {
        "id": "b6Ox4vyYPr_O"
      }
    },
    {
      "cell_type": "code",
      "source": [
        "import pandas as pd\n",
        "\n",
        "df = pd.read_csv(\"/content/FirstGenPokemon.csv\")\n",
        "\n",
        "print(df)"
      ],
      "metadata": {
        "id": "qpMTxUtuLoDB",
        "colab": {
          "base_uri": "https://localhost:8080/"
        },
        "outputId": "ca4dc5b3-4d2b-4276-93aa-4f28793c2788"
      },
      "execution_count": null,
      "outputs": [
        {
          "output_type": "stream",
          "name": "stdout",
          "text": [
            "     Number        Name   Types    Type1   Type2   Height(m)   Weight(kg)  \\\n",
            "0         1   Bulbasaur       2    grass  poison         0.7          6.9   \n",
            "1         2     Ivysaur       2    grass  poison         1.0         13.0   \n",
            "2         3    Venusaur       2    grass  poison         2.0        100.0   \n",
            "3         4  Charmander       1     fire     NaN         0.6          8.5   \n",
            "4         5  Charmeleon       1     fire     NaN         1.1         19.0   \n",
            "..      ...         ...     ...      ...     ...         ...          ...   \n",
            "146     147     Dratini       1   dragon     NaN         1.8          3.3   \n",
            "147     148   Dragonair       1   dragon     NaN         4.0         16.5   \n",
            "148     149   Dragonite       2   dragon  flying         2.2        210.0   \n",
            "149     150      Mewtwo       1  psychic     NaN         2.0        122.0   \n",
            "150     151         Mew       1  psychic     NaN         0.4          4.0   \n",
            "\n",
            "      Male_Pct   Female_Pct   Capt_Rate  ...   Poison_Dmg  Ground_Dmg  \\\n",
            "0         87.5         12.5          45  ...          1.0         1.0   \n",
            "1         87.5         12.5          45  ...          1.0         1.0   \n",
            "2         87.5         12.5          45  ...          1.0         1.0   \n",
            "3         87.5         12.5          45  ...          1.0         2.0   \n",
            "4         87.5         12.5          45  ...          1.0         2.0   \n",
            "..         ...          ...         ...  ...          ...         ...   \n",
            "146       50.0         50.0          45  ...          1.0         1.0   \n",
            "147       50.0         50.0          45  ...          1.0         1.0   \n",
            "148       50.0         50.0          45  ...          1.0         0.0   \n",
            "149        0.0          0.0           3  ...          1.0         1.0   \n",
            "150        0.0          0.0          45  ...          1.0         1.0   \n",
            "\n",
            "      Flying_Dmg   Psychic_Dmg   Bug_Dmg   Rock_Dmg   Ghost_Dmg   Dragon_Dmg  \\\n",
            "0            2.0           2.0       4.0        1.0           1            1   \n",
            "1            2.0           2.0       4.0        1.0           1            1   \n",
            "2            2.0           2.0       4.0        1.0           1            1   \n",
            "3            1.0           1.0       0.5        2.0           1            1   \n",
            "4            1.0           1.0       0.5        2.0           1            1   \n",
            "..           ...           ...       ...        ...         ...          ...   \n",
            "146          1.0           1.0       1.0        1.0           1            2   \n",
            "147          1.0           1.0       1.0        1.0           1            2   \n",
            "148          1.0           1.0       0.5        2.0           1            2   \n",
            "149          1.0           0.5       2.0        1.0           0            1   \n",
            "150          1.0           0.5       2.0        1.0           0            1   \n",
            "\n",
            "      Evolutions  Legendary  \n",
            "0              2          0  \n",
            "1              2          0  \n",
            "2              2          0  \n",
            "3              2          0  \n",
            "4              2          0  \n",
            "..           ...        ...  \n",
            "146            2          0  \n",
            "147            2          0  \n",
            "148            2          0  \n",
            "149            0          1  \n",
            "150            0          1  \n",
            "\n",
            "[151 rows x 35 columns]\n"
          ]
        }
      ]
    },
    {
      "cell_type": "code",
      "source": [
        "import pandas as pd\n",
        "\n",
        "df = pd.read_csv(\"/content/FirstGenPokemon.csv\")\n",
        "\n",
        "print(df.to_string())"
      ],
      "metadata": {
        "colab": {
          "base_uri": "https://localhost:8080/"
        },
        "collapsed": true,
        "id": "7wLHUMPiS7VG",
        "outputId": "db4d853f-66ed-4bd2-c803-4be8339a70e0"
      },
      "execution_count": null,
      "outputs": [
        {
          "output_type": "stream",
          "name": "stdout",
          "text": [
            "     Number        Name   Types     Type1     Type2   Height(m)   Weight(kg)   Male_Pct   Female_Pct   Capt_Rate   Exp_Points    Exp_Speed   Base_Total   HP   Attack   Defense   Special   Speed   Normal_Dmg   Fire_Dmg   Water_Dmg   Eletric_Dmg   Grass_Dmg   Ice_Dmg   Fight_Dmg   Poison_Dmg   Ground_Dmg   Flying_Dmg   Psychic_Dmg   Bug_Dmg   Rock_Dmg   Ghost_Dmg   Dragon_Dmg   Evolutions  Legendary\n",
            "0         1   Bulbasaur       2     grass    poison         0.7          6.9       87.5         12.5          45      1059860  Medium Slow          253   45       49        49        65      45          1.0       2.00         0.5           0.5        0.25      2.00        0.50         1.00         1.00          2.0           2.0      4.00        1.0           1            1            2          0\n",
            "1         2     Ivysaur       2     grass    poison         1.0         13.0       87.5         12.5          45      1059860  Medium Slow          325   60       62        63        80      60          1.0       2.00         0.5           0.5        0.25      2.00        0.50         1.00         1.00          2.0           2.0      4.00        1.0           1            1            2          0\n",
            "2         3    Venusaur       2     grass    poison         2.0        100.0       87.5         12.5          45      1059860  Medium Slow          425   80       82        83       100      80          1.0       2.00         0.5           0.5        0.25      2.00        0.50         1.00         1.00          2.0           2.0      4.00        1.0           1            1            2          0\n",
            "3         4  Charmander       1      fire       NaN         0.6          8.5       87.5         12.5          45      1059860  Medium Slow          249   39       52        43        50      65          1.0       0.50         2.0           1.0        0.50      1.00        1.00         1.00         2.00          1.0           1.0      0.50        2.0           1            1            2          0\n",
            "4         5  Charmeleon       1      fire       NaN         1.1         19.0       87.5         12.5          45      1059860  Medium Slow          325   58       64        58        65      80          1.0       0.50         2.0           1.0        0.50      1.00        1.00         1.00         2.00          1.0           1.0      0.50        2.0           1            1            2          0\n",
            "5         6   Charizard       2      fire    flying         1.7         90.5       87.5         12.5          45      1059860  Medium Slow          425   78       84        78        85     100          1.0       0.50         2.0           2.0        0.25      2.00        0.50         1.00         0.00          1.0           1.0      0.25        4.0           1            1            2          0\n",
            "6         7    Squirtle       1     water       NaN         0.5          9.0       87.5         12.5          45      1059860  Medium Slow          250   44       48        65        50      43          1.0       0.50         0.5           2.0        2.00      0.50        1.00         1.00         1.00          1.0           1.0      1.00        1.0           1            1            2          0\n",
            "7         8   Wartortle       1     water       NaN         1.0         22.5       87.5         12.5          45      1059860  Medium Slow          325   59       63        80        65      58          1.0       0.50         0.5           2.0        2.00      0.50        1.00         1.00         1.00          1.0           1.0      1.00        1.0           1            1            2          0\n",
            "8         9   Blastoise       1     water       NaN         1.6         85.5       87.5         12.5          45      1059860  Medium Slow          425   79       83       100        85      78          1.0       0.50         0.5           2.0        2.00      0.50        1.00         1.00         1.00          1.0           1.0      1.00        1.0           1            1            2          0\n",
            "9        10    Caterpie       1       bug       NaN         0.3          2.9       50.0         50.0         255      1000000  Medium Fast          175   45       30        35        20      45          1.0       2.00         1.0           1.0        0.50      1.00        0.50         2.00         0.50          2.0           1.0      1.00        2.0           1            1            2          0\n",
            "10       11     Metapod       1       bug       NaN         0.7          9.9       50.0         50.0         120      1000000  Medium Fast          180   50       20        55        25      30          1.0       2.00         1.0           1.0        0.50      1.00        0.50         2.00         0.50          2.0           1.0      1.00        2.0           1            1            2          0\n",
            "11       12  Butterfree       2       bug    flying         1.1         32.0       50.0         50.0          45      1000000  Medium Fast          305   60       45        50        80      70          1.0       2.00         1.0           2.0        0.25      2.00        0.25         2.00         0.00          2.0           1.0      0.50        4.0           1            1            2          0\n",
            "12       13      Weedle       2       bug    poison         0.3          3.2       50.0         50.0         255      1000000  Medium Fast          175   40       35        30        20      50          1.0       2.00         1.0           1.0        0.25      1.00        0.25         1.00         1.00          2.0           2.0      2.00        2.0           1            1            2          0\n",
            "13       14      Kakuna       2       bug    poison         0.6         10.0       50.0         50.0         120      1000000  Medium Fast          180   45       25        50        25      35          1.0       2.00         1.0           1.0        0.25      1.00        0.25         1.00         1.00          2.0           2.0      2.00        2.0           1            1            2          0\n",
            "14       15    Beedrill       2       bug    poison         1.0         29.5       50.0         50.0          45      1000000  Medium Fast          305   65       80        40        45      75          1.0       2.00         1.0           1.0        0.25      1.00        0.25         1.00         1.00          2.0           2.0      2.00        2.0           1            1            2          0\n",
            "15       16      Pidgey       2    normal    flying         0.3          1.8       50.0         50.0         255      1059860  Medium Slow          216   40       45        40        35      56          1.0       1.00         1.0           2.0        0.50      2.00        1.00         1.00         0.00          1.0           1.0      0.50        2.0           0            1            2          0\n",
            "16       17   Pidgeotto       2    normal    flying         1.1         30.0       50.0         50.0         120      1059860  Medium Slow          299   63       60        55        50      71          1.0       1.00         1.0           2.0        0.50      2.00        1.00         1.00         0.00          1.0           1.0      0.50        2.0           0            1            2          0\n",
            "17       18     Pidgeot       2    normal    flying         1.5         39.5       50.0         50.0          45      1059860  Medium Slow          399   83       80        75        70      91          1.0       1.00         1.0           2.0        0.50      2.00        1.00         1.00         0.00          1.0           1.0      0.50        2.0           0            1            2          0\n",
            "18       19     Rattata       1    normal       NaN         0.3          3.5       50.0         50.0         255      1000000  Medium Fast          218   30       56        35        25      72          1.0       1.00         1.0           1.0        1.00      1.00        2.00         1.00         1.00          1.0           1.0      1.00        1.0           0            1            1          0\n",
            "19       20    Raticate       1    normal       NaN         0.7         18.5       50.0         50.0         127      1000000  Medium Fast          343   55       81        60        50      97          1.0       1.00         1.0           1.0        1.00      1.00        2.00         1.00         1.00          1.0           1.0      1.00        1.0           0            1            1          0\n",
            "20       21     Spearow       2    normal    flying         0.3          2.0       50.0         50.0         255      1000000  Medium Fast          231   40       60        30        31      70          1.0       1.00         1.0           2.0        0.50      2.00        1.00         1.00         0.00          1.0           1.0      0.50        2.0           0            1            1          0\n",
            "21       22      Fearow       2    normal    flying         1.2         38.0       50.0         50.0          90      1000000  Medium Fast          381   65       90        65        61     100          1.0       1.00         1.0           2.0        0.50      2.00        1.00         1.00         0.00          1.0           1.0      0.50        2.0           0            1            1          0\n",
            "22       23       Ekans       1    poison       NaN         2.0          6.9       50.0         50.0         255      1000000  Medium Fast          234   35       60        44        40      55          1.0       1.00         1.0           1.0        0.50      1.00        0.50         0.50         2.00          1.0           2.0      2.00        1.0           1            1            1          0\n",
            "23       24       Arbok       1    poison       NaN         3.5         65.0       50.0         50.0          90      1000000  Medium Fast          359   60       85        69        65      80          1.0       1.00         1.0           1.0        0.50      1.00        0.50         0.50         2.00          1.0           2.0      2.00        1.0           1            1            1          0\n",
            "24       25     Pikachu       1  electric       NaN         0.4          6.0       50.0         50.0         190      1000000  Medium Fast          260   35       55        30        50      90          1.0       1.00         1.0           0.5        1.00      1.00        1.00         1.00         2.00          0.5           1.0      1.00        1.0           1            1            1          0\n",
            "25       26      Raichu       1  electric       NaN         0.8         30.0       50.0         50.0          75      1000000  Medium Fast          395   60       90        55        90     100          1.0       1.00         1.0           0.5        1.00      1.00        1.00         1.00         2.00          0.5           1.0      1.00        1.0           1            1            1          0\n",
            "26       27   Sandshrew       1    ground       NaN         0.6         12.0       50.0         50.0         255      1000000  Medium Fast          280   50       75        85        30      40          1.0       1.00         2.0           0.0        2.00      2.00        1.00         0.50         1.00          1.0           1.0      1.00        0.5           1            1            1          0\n",
            "27       28   Sandslash       1    ground       NaN         1.0         29.5       50.0         50.0          90      1000000  Medium Fast          405   75      100       110        55      65          1.0       1.00         2.0           0.0        2.00      2.00        1.00         0.50         1.00          1.0           1.0      1.00        0.5           1            1            1          0\n",
            "28       29     Nidoran       1    poison       NaN         0.4          7.0        0.0        100.0         235      1059860  Medium Slow          235   55       47        52        40      41          1.0       1.00         1.0           1.0        0.50      1.00        0.50         0.50         2.00          1.0           2.0      2.00        1.0           1            1            2          0\n",
            "29       30    Nidorina       1    poison       NaN         0.8         20.0        0.0        100.0         120      1059860  Medium Slow          310   70       62        67        55      56          1.0       1.00         1.0           1.0        0.50      1.00        0.50         0.50         2.00          1.0           2.0      2.00        1.0           1            1            2          0\n",
            "30       31   Nidoqueen       2    poison    ground         1.3         60.0        0.0        100.0          45      1059860  Medium Slow          410   90       82        87        75      76          1.0       1.00         2.0           0.0        1.00      2.00        0.50         0.25         2.00          1.0           2.0      2.00        0.5           1            1            2          0\n",
            "31       32     Nidoran       1    poison       NaN         0.5          9.0      100.0          0.0         235      1059860  Medium Slow          233   46       57        40        40      50          1.0       1.00         1.0           1.0        0.50      1.00        0.50         0.50         2.00          1.0           2.0      2.00        1.0           1            1            2          0\n",
            "32       33    Nidorino       1    poison       NaN         0.9         19.5      100.0          0.0         120      1059860  Medium Slow          310   61       72        57        55      65          1.0       1.00         1.0           1.0        0.50      1.00        0.50         0.50         2.00          1.0           2.0      2.00        1.0           1            1            2          0\n",
            "33       34    Nidoking       2    poison    ground         1.4         62.0      100.0          0.0          45      1059860  Medium Slow          410   81       92        77        75      85          1.0       1.00         2.0           0.0        1.00      2.00        0.50         0.25         2.00          1.0           2.0      2.00        0.5           1            1            2          0\n",
            "34       35    Clefairy       1    normal       NaN         0.6          7.5       25.0         75.0         150       800000         Fast          258   70       45        48        60      35          1.0       1.00         1.0           1.0        1.00      1.00        2.00         1.00         1.00          1.0           1.0      1.00        1.0           0            1            1          0\n",
            "35       36    Clefable       1    normal       NaN         1.3         40.0       25.0         75.0          25       800000         Fast          383   95       70        73        85      60          1.0       1.00         1.0           1.0        1.00      1.00        2.00         1.00         1.00          1.0           1.0      1.00        1.0           0            1            1          0\n",
            "36       37      Vulpix       1      fire       NaN         0.6          9.9       25.0         75.0         190      1000000  Medium Fast          249   38       41        40        65      65          1.0       0.50         2.0           1.0        0.50      1.00        1.00         1.00         2.00          1.0           1.0      0.50        2.0           1            1            1          0\n",
            "37       38   Ninetales       1      fire       NaN         1.1         19.9       25.0         75.0          75      1000000  Medium Fast          424   73       76        75       100     100          1.0       0.50         2.0           1.0        0.50      1.00        1.00         1.00         2.00          1.0           1.0      0.50        2.0           1            1            1          0\n",
            "38       39  Jigglypuff       1    normal       NaN         0.5          5.5       25.0         75.0         170       800000         Fast          225  115       45        20        25      20          1.0       1.00         1.0           1.0        1.00      1.00        2.00         1.00         1.00          1.0           1.0      1.00        1.0           0            1            1          0\n",
            "39       40  Wigglytuff       1    normal       NaN         1.0         12.0       25.0         75.0          50       800000         Fast          350  140       70        45        50      45          1.0       1.00         1.0           1.0        1.00      1.00        2.00         1.00         1.00          1.0           1.0      1.00        1.0           0            1            1          0\n",
            "40       41       Zubat       2    poison    flying         0.8          7.5       50.0         50.0         255      1000000  Medium Fast          215   40       45        35        40      55          1.0       1.00         1.0           2.0        0.25      2.00        0.25         0.50         0.00          1.0           2.0      1.00        2.0           1            1            1          0\n",
            "41       42      Golbat       2    poison    flying         1.6         55.0       50.0         50.0          90      1000000  Medium Fast          390   75       80        70        75      90          1.0       1.00         1.0           2.0        0.25      2.00        0.25         0.50         0.00          1.0           2.0      1.00        2.0           1            1            1          0\n",
            "42       43      Oddish       2     grass    poison         0.5          5.4       50.0         50.0         255      1059860  Medium Slow          255   45       50        55        75      30          1.0       2.00         0.5           0.5        0.25      2.00        0.50         1.00         1.00          2.0           2.0      4.00        1.0           1            1            2          0\n",
            "43       44       Gloom       2     grass    poison         0.8          8.6       50.0         50.0         120      1059860  Medium Slow          320   60       65        70        85      40          1.0       2.00         0.5           0.5        0.25      2.00        0.50         1.00         1.00          2.0           2.0      4.00        1.0           1            1            2          0\n",
            "44       45   Vileplume       2     grass    poison         1.2         18.6       50.0         50.0          45      1059860  Medium Slow          390   75       80        85       100      50          1.0       2.00         0.5           0.5        0.25      2.00        0.50         1.00         1.00          2.0           2.0      4.00        1.0           1            1            2          0\n",
            "45       46       Paras       2       bug     grass         0.3          5.4       50.0         50.0         190      1000000  Medium Fast          240   35       70        55        55      25          1.0       4.00         0.5           0.5        0.25      2.00        0.50         4.00         0.25          4.0           1.0      2.00        2.0           1            1            1          0\n",
            "46       47    Parasect       2       bug     grass         1.0         29.5       50.0         50.0          75      1000000  Medium Fast          345   60       95        80        80      30          1.0       4.00         0.5           0.5        0.25      2.00        0.50         4.00         0.25          4.0           1.0      2.00        2.0           1            1            1          0\n",
            "47       48     Venonat       2       bug    poison         1.0         30.0       50.0         50.0         190      1000000  Medium Fast          250   60       55        50        40      45          1.0       2.00         1.0           1.0        0.25      1.00        0.25         1.00         1.00          2.0           2.0      2.00        2.0           1            1            1          0\n",
            "48       49    Venomoth       2       bug    poison         1.5         12.5       50.0         50.0          75      1000000  Medium Fast          375   70       65        60        90      90          1.0       2.00         1.0           1.0        0.25      1.00        0.25         1.00         1.00          2.0           2.0      2.00        2.0           1            1            1          0\n",
            "49       50     Diglett       1    ground       NaN         0.2          0.8       50.0         50.0         255      1000000  Medium Fast          230   10       55        25        45      95          1.0       1.00         2.0           0.0        2.00      2.00        1.00         0.50         1.00          1.0           1.0      1.00        0.5           1            1            1          0\n",
            "50       51     Dugtrio       1    ground       NaN         0.7         33.3       50.0         50.0          50      1000000  Medium Fast          355   35       80        50        70     120          1.0       1.00         2.0           0.0        2.00      2.00        1.00         0.50         1.00          1.0           1.0      1.00        0.5           1            1            1          0\n",
            "51       52      Meowth       1    normal       NaN         0.4          4.2       50.0         50.0         255      1000000  Medium Fast          250   40       45        35        40      90          1.0       1.00         1.0           1.0        1.00      1.00        2.00         1.00         1.00          1.0           1.0      1.00        1.0           0            1            1          0\n",
            "52       53     Persian       1    normal       NaN         1.0         32.0       50.0         50.0          90      1000000  Medium Fast          375   65       70        60        65     115          1.0       1.00         1.0           1.0        1.00      1.00        2.00         1.00         1.00          1.0           1.0      1.00        1.0           0            1            1          0\n",
            "53       54     Psyduck       1     water       NaN         0.8         19.6       50.0         50.0         190      1000000  Medium Fast          255   50       52        48        50      55          1.0       0.50         0.5           2.0        2.00      0.50        1.00         1.00         1.00          1.0           1.0      1.00        1.0           1            1            1          0\n",
            "54       55     Golduck       1     water       NaN         1.7         76.6       50.0         50.0          75      1000000  Medium Fast          405   80       82        78        80      85          1.0       0.50         0.5           2.0        2.00      0.50        1.00         1.00         1.00          1.0           1.0      1.00        1.0           1            1            1          0\n",
            "55       56      Mankey       1  fighting       NaN         0.5         28.0       50.0         50.0         190      1000000  Medium Fast          260   40       80        35        35      70          1.0       1.00         1.0           1.0        1.00      1.00        1.00         1.00         1.00          2.0           2.0      0.50        0.5           1            1            1          0\n",
            "56       57    Primeape       1  fighting       NaN         1.0         32.0       50.0         50.0          75      1000000  Medium Fast          385   65      105        60        60      95          1.0       1.00         1.0           1.0        1.00      1.00        1.00         1.00         1.00          2.0           2.0      0.50        0.5           1            1            1          0\n",
            "57       58   Growlithe       1      fire       NaN         0.7         19.0       75.0         25.0         190      1250000         Slow          280   55       70        45        50      60          1.0       0.50         2.0           1.0        0.50      1.00        1.00         1.00         2.00          1.0           1.0      0.50        2.0           1            1            1          0\n",
            "58       59    Arcanine       1      fire       NaN         1.9        155.0       75.0         25.0          75      1250000         Slow          455   90      110        80        80      95          1.0       0.50         2.0           1.0        0.50      1.00        1.00         1.00         2.00          1.0           1.0      0.50        2.0           1            1            1          0\n",
            "59       60     Poliwag       1     water       NaN         0.6         12.4       50.0         50.0         255      1059860  Medium Slow          260   40       50        40        40      90          1.0       0.50         0.5           2.0        2.00      0.50        1.00         1.00         1.00          1.0           1.0      1.00        1.0           1            1            2          0\n",
            "60       61   Poliwhirl       1     water       NaN         1.0         20.0       50.0         50.0         120      1059860  Medium Slow          335   65       65        65        50      90          1.0       0.50         0.5           2.0        2.00      0.50        1.00         1.00         1.00          1.0           1.0      1.00        1.0           1            1            2          0\n",
            "61       62   Poliwrath       2     water  fighting         1.3         54.0       50.0         50.0          45      1059860  Medium Slow          410   90       85        95        70      70          1.0       0.50         0.5           2.0        2.00      0.50        1.00         1.00         1.00          2.0           2.0      0.50        0.5           1            1            2          0\n",
            "62       63        Abra       1   psychic       NaN         0.9         19.5       75.0         25.0         200      1059860  Medium Slow          255   25       20        15       105      90          1.0       1.00         1.0           1.0        1.00      1.00        0.50         1.00         1.00          1.0           0.5      2.00        1.0           0            1            2          0\n",
            "63       64     Kadabra       1   psychic       NaN         1.3         56.5       75.0         25.0         100      1059860  Medium Slow          330   40       35        30       120     105          1.0       1.00         1.0           1.0        1.00      1.00        0.50         1.00         1.00          1.0           0.5      2.00        1.0           0            1            2          0\n",
            "64       65    Alakazam       1   psychic       NaN         1.5         48.0       75.0         25.0          50      1059860  Medium Slow          405   55       50        45       135     120          1.0       1.00         1.0           1.0        1.00      1.00        0.50         1.00         1.00          1.0           0.5      2.00        1.0           0            1            2          0\n",
            "65       66      Machop       1  fighting       NaN         0.8         19.5       75.0         25.0         180      1059860  Medium Slow          270   70       80        50        35      35          1.0       1.00         1.0           1.0        1.00      1.00        1.00         1.00         1.00          2.0           2.0      0.50        0.5           1            1            2          0\n",
            "66       67     Machoke       1  fighting       NaN         1.5         70.5       75.0         25.0          90      1059860  Medium Slow          345   80      100        70        50      45          1.0       1.00         1.0           1.0        1.00      1.00        1.00         1.00         1.00          2.0           2.0      0.50        0.5           1            1            2          0\n",
            "67       68     Machamp       1  fighting       NaN         1.6        130.0       75.0         25.0          45      1059860  Medium Slow          420   90      130        80        65      55          1.0       1.00         1.0           1.0        1.00      1.00        1.00         1.00         1.00          2.0           2.0      0.50        0.5           1            1            2          0\n",
            "68       69  Bellsprout       2     grass    poison         0.7          4.0       50.0         50.0         255      1059860  Medium Slow          270   50       75        35        70      40          1.0       2.00         0.5           0.5        0.25      2.00        0.50         1.00         1.00          2.0           2.0      4.00        1.0           1            1            2          0\n",
            "69       70  Weepinbell       2     grass    poison         1.0          6.4       50.0         50.0         120      1059860  Medium Slow          345   65       90        50        85      55          1.0       2.00         0.5           0.5        0.25      2.00        0.50         1.00         1.00          2.0           2.0      4.00        1.0           1            1            2          0\n",
            "70       71  Victreebel       2     grass    poison         1.7         15.5       50.0         50.0          45      1059860  Medium Slow          420   80      105        65       100      70          1.0       2.00         0.5           0.5        0.25      2.00        0.50         1.00         1.00          2.0           2.0      4.00        1.0           1            1            2          0\n",
            "71       72   Tentacool       2     water    poison         0.9         45.5       50.0         50.0         190      1250000         Slow          285   40       40        35       100      70          1.0       0.50         0.5           2.0        1.00      0.50        0.50         0.50         2.00          1.0           2.0      2.00        1.0           1            1            1          0\n",
            "72       73  Tentacruel       2     water    poison         1.6         55.0       50.0         50.0          60      1250000         Slow          435   80       70        65       120     100          1.0       0.50         0.5           2.0        1.00      0.50        0.50         0.50         2.00          1.0           2.0      2.00        1.0           1            1            1          0\n",
            "73       74     Geodude       2      rock    ground         0.4         20.0       50.0         50.0         255      1059860  Medium Slow          270   40       80       100        30      20          0.5       0.50         4.0           0.0        4.00      2.00        2.00         0.25         2.00          0.5           1.0      1.00        0.5           1            1            2          0\n",
            "74       75    Graveler       2      rock    ground         1.0        105.0       50.0         50.0         120      1059860  Medium Slow          345   55       95       115        45      35          0.5       0.50         4.0           0.0        4.00      2.00        2.00         0.25         2.00          0.5           1.0      1.00        0.5           1            1            2          0\n",
            "75       76       Golem       2      rock    ground         1.4        300.0       50.0         50.0          45      1059860  Medium Slow          420   80      110       130        55      45          0.5       0.50         4.0           0.0        4.00      2.00        2.00         0.25         2.00          0.5           1.0      1.00        0.5           1            1            2          0\n",
            "76       77      Ponyta       1      fire       NaN         1.0         30.0       50.0         50.0         190      1000000  Medium Fast          345   50       85        55        65      90          1.0       0.50         2.0           1.0        0.50      1.00        1.00         1.00         2.00          1.0           1.0      0.50        2.0           1            1            1          0\n",
            "77       78    Rapidash       1      fire       NaN         1.7         95.0       50.0         50.0          60      1000000  Medium Fast          420   65      100        70        80     105          1.0       0.50         2.0           1.0        0.50      1.00        1.00         1.00         2.00          1.0           1.0      0.50        2.0           1            1            1          0\n",
            "78       79    Slowpoke       2     water   psychic         1.2         36.0       50.0         50.0         190      1000000  Medium Fast          275   90       65        65        40      15          1.0       0.50         0.5           2.0        2.00      0.50        0.50         1.00         1.00          1.0           0.5      2.00        1.0           0            1            1          0\n",
            "79       80     Slowbro       2     water   psychic         1.6         78.5       50.0         50.0          75      1000000  Medium Fast          390   95       75       110        80      30          1.0       0.50         0.5           2.0        2.00      0.50        0.50         1.00         1.00          1.0           0.5      2.00        1.0           0            1            1          0\n",
            "80       81   Magnemite       1  electric       NaN         0.3          6.0        0.0          0.0         190      1000000  Medium Fast          270   25       35        70        95      45          1.0       1.00         1.0           0.5        1.00      1.00        1.00         1.00         2.00          0.5           1.0      1.00        1.0           1            1            1          0\n",
            "81       82    Magneton       1  electric       NaN         1.0         60.0        0.0          0.0          60      1000000  Medium Fast          395   50       60        95       120      70          1.0       1.00         1.0           0.5        1.00      1.00        1.00         1.00         2.00          0.5           1.0      1.00        1.0           1            1            1          0\n",
            "82       83   Farfetchd       2    normal    flying         0.8         15.0       50.0         50.0          45      1000000  Medium Fast          290   52       65        55        58      60          1.0       1.00         1.0           2.0        0.50      2.00        1.00         1.00         0.00          1.0           1.0      0.50        2.0           0            1            0          0\n",
            "83       84       Doduo       2    normal    flying         1.4         39.2       50.0         50.0         190      1000000  Medium Fast          275   35       85        45        35      75          1.0       1.00         1.0           2.0        0.50      2.00        1.00         1.00         0.00          1.0           1.0      0.50        2.0           0            1            1          0\n",
            "84       85      Dodrio       2    normal    flying         1.8         85.2       50.0         50.0          45      1000000  Medium Fast          400   60      110        70        60     100          1.0       1.00         1.0           2.0        0.50      2.00        1.00         1.00         0.00          1.0           1.0      0.50        2.0           0            1            1          0\n",
            "85       86        Seel       1     water       NaN         1.1         90.0       50.0         50.0         190      1000000  Medium Fast          280   65       45        55        70      45          1.0       0.50         0.5           2.0        2.00      0.50        1.00         1.00         1.00          1.0           1.0      1.00        1.0           1            1            1          0\n",
            "86       87     Dewgong       2     water       ice         1.7        120.0       50.0         50.0          75      1000000  Medium Fast          405   90       70        80        95      70          1.0       1.00         0.5           2.0        2.00      0.25        2.00         1.00         1.00          1.0           1.0      1.00        2.0           1            1            1          0\n",
            "87       88      Grimer       1    poison       NaN         0.9         30.0       50.0         50.0         190      1000000  Medium Fast          275   80       80        50        40      25          1.0       1.00         1.0           1.0        0.50      1.00        0.50         0.50         2.00          1.0           2.0      2.00        1.0           1            1            1          0\n",
            "88       89         Muk       1    poison       NaN         1.2         30.0       50.0         50.0          75      1000000  Medium Fast          400  105      105        75        65      50          1.0       1.00         1.0           1.0        0.50      1.00        0.50         0.50         2.00          1.0           2.0      2.00        1.0           1            1            1          0\n",
            "89       90    Shellder       1     water       NaN         0.3          4.0       50.0         50.0         190      1250000         Slow          280   30       65       100        45      40          1.0       0.50         0.5           2.0        2.00      0.50        1.00         1.00         1.00          1.0           1.0      1.00        1.0           1            1            1          0\n",
            "90       91    Cloyster       2     water       ice         1.5        132.5       50.0         50.0          60      1250000         Slow          480   50       95       180        85      70          1.0       1.00         0.5           2.0        2.00      0.25        2.00         1.00         1.00          1.0           1.0      1.00        2.0           1            1            1          0\n",
            "91       92      Gastly       2     ghost    poison         1.3          0.1       50.0         50.0         190      1059860  Medium Slow          275   30       35        30       100      80          0.0       1.00         1.0           1.0        0.50      1.00        0.00         0.25         2.00          1.0           2.0      1.00        1.0           2            1            2          0\n",
            "92       93     Haunter       2     ghost    poison         1.6          0.1       50.0         50.0          90      1059860  Medium Slow          350   45       50        45       115      95          0.0       1.00         1.0           1.0        0.50      1.00        0.00         0.25         2.00          1.0           2.0      1.00        1.0           2            1            2          0\n",
            "93       94      Gengar       2     ghost    poison         1.5         40.5       50.0         50.0          45      1059860  Medium Slow          425   60       65        60       130     110          0.0       1.00         1.0           1.0        0.50      1.00        0.00         0.25         2.00          1.0           2.0      1.00        1.0           2            1            2          0\n",
            "94       95        Onix       2      rock    ground         8.8        210.0       50.0         50.0          45      1000000  Medium Fast          340   35       45       160        30      70          0.5       0.50         4.0           0.0        4.00      2.00        2.00         0.25         2.00          0.5           1.0      1.00        0.5           1            1            0          0\n",
            "95       96     Drowzee       1   psychic       NaN         1.0         32.4       50.0         50.0         190      1000000  Medium Fast          285   60       48        45        90      42          1.0       1.00         1.0           1.0        1.00      1.00        0.50         1.00         1.00          1.0           0.5      2.00        1.0           0            1            1          0\n",
            "96       97       Hypno       1   psychic       NaN         1.6         75.6       50.0         50.0          75      1000000  Medium Fast          410   85       73        70       115      67          1.0       1.00         1.0           1.0        1.00      1.00        0.50         1.00         1.00          1.0           0.5      2.00        1.0           0            1            1          0\n",
            "97       98      Krabby       1     water       NaN         0.4          6.5       50.0         50.0         225      1000000  Medium Fast          300   30      105        90        25      50          1.0       0.50         0.5           2.0        2.00      0.50        1.00         1.00         1.00          1.0           1.0      1.00        1.0           1            1            1          0\n",
            "98       99     Kingler       1     water       NaN         1.3         60.0       50.0         50.0          60      1000000  Medium Fast          425   55      130       115        50      75          1.0       0.50         0.5           2.0        2.00      0.50        1.00         1.00         1.00          1.0           1.0      1.00        1.0           1            1            1          0\n",
            "99      100     Voltorb       1  electric       NaN         0.5         10.4        0.0          0.0         190      1000000  Medium Fast          275   40       30        50        55     100          1.0       1.00         1.0           0.5        1.00      1.00        1.00         1.00         2.00          0.5           1.0      1.00        1.0           1            1            1          0\n",
            "100     101   Electrode       1  electric       NaN         1.2         66.6        0.0          0.0          60      1000000  Medium Fast          400   60       50        70        80     140          1.0       1.00         1.0           0.5        1.00      1.00        1.00         1.00         2.00          0.5           1.0      1.00        1.0           1            1            1          0\n",
            "101     102   Exeggcute       2     grass   psychic         0.4          2.5       50.0         50.0          90      1250000         Slow          280   60       40        80        60      40          1.0       2.00         0.5           0.5        0.50      2.00        0.50         2.00         0.50          2.0           0.5      4.00        1.0           0            1            1          0\n",
            "102     103   Exeggutor       2     grass   psychic         2.0        120.0       50.0         50.0          45      1250000         Slow          455   95       95        85       125      55          1.0       2.00         0.5           0.5        0.50      2.00        0.50         2.00         0.50          2.0           0.5      4.00        1.0           0            1            1          0\n",
            "103     104      Cubone       1    ground       NaN         0.4          6.5       50.0         50.0         190      1000000  Medium Fast          270   50       50        95        40      35          1.0       1.00         2.0           0.0        2.00      2.00        1.00         0.50         1.00          1.0           1.0      1.00        0.5           1            1            1          0\n",
            "104     105     Marowak       1    ground       NaN         1.0         45.0       50.0         50.0          75      1000000  Medium Fast          345   60       80       110        50      45          1.0       1.00         2.0           0.0        2.00      2.00        1.00         0.50         1.00          1.0           1.0      1.00        0.5           1            1            1          0\n",
            "105     106   Hitmonlee       1  fighting       NaN         1.5         49.8      100.0          0.0          45      1000000  Medium Fast          345   50      120        53        35      87          1.0       1.00         1.0           1.0        1.00      1.00        1.00         1.00         1.00          2.0           2.0      0.50        0.5           1            1            0          0\n",
            "106     107  Hitmonchan       1  fighting       NaN         1.4         50.2      100.0          0.0          45      1000000  Medium Fast          345   50      105        79        35      76          1.0       1.00         1.0           1.0        1.00      1.00        1.00         1.00         1.00          2.0           2.0      0.50        0.5           1            1            0          0\n",
            "107     108   Lickitung       1    normal       NaN         1.2         65.5       50.0         50.0          45      1000000  Medium Fast          310   90       55        75        60      30          1.0       1.00         1.0           1.0        1.00      1.00        2.00         1.00         1.00          1.0           1.0      1.00        1.0           0            1            0          0\n",
            "108     109     Koffing       1    poison       NaN         0.6          1.0       50.0         50.0         190      1000000  Medium Fast          295   40       65        95        60      35          1.0       1.00         1.0           1.0        0.50      1.00        0.50         0.50         2.00          1.0           2.0      2.00        1.0           1            1            1          0\n",
            "109     110     Weezing       1    poison       NaN         1.2          9.5       50.0         50.0          60      1000000  Medium Fast          420   65       90       120        85      60          1.0       1.00         1.0           1.0        0.50      1.00        0.50         0.50         2.00          1.0           2.0      2.00        1.0           1            1            1          0\n",
            "110     111     Rhyhorn       2    ground      rock         1.0        115.0       50.0         50.0         120      1250000         Slow          315   80       85        95        30      25          0.5       0.50         4.0           0.0        4.00      2.00        2.00         0.25         2.00          0.5           1.0      1.00        0.5           1            1            1          0\n",
            "111     112      Rhydon       2    ground      rock         1.9        120.0       50.0         50.0          60      1250000         Slow          440  105      130       120        45      40          0.5       0.50         4.0           0.0        4.00      2.00        2.00         0.25         2.00          0.5           1.0      1.00        0.5           1            1            1          0\n",
            "112     113     Chansey       1    normal       NaN         1.1         34.6        0.0        100.0          30       800000         Fast          415  250        5         5       105      50          1.0       1.00         1.0           1.0        1.00      1.00        2.00         1.00         1.00          1.0           1.0      1.00        1.0           0            1            0          0\n",
            "113     114     Tangela       1     grass       NaN         1.0         35.0       50.0         50.0          45      1000000  Medium Fast          395   65       55       115       100      60          1.0       2.00         0.5           0.5        0.50      2.00        1.00         2.00         0.50          2.0           1.0      2.00        1.0           1            1            0          0\n",
            "114     115  Kangaskhan       1    normal       NaN         2.2         80.0        0.0        100.0          45      1000000  Medium Fast          410  105       95        80        40      90          1.0       1.00         1.0           1.0        1.00      1.00        2.00         1.00         1.00          1.0           1.0      1.00        1.0           0            1            0          0\n",
            "115     116      Horsea       1     water       NaN         0.4          8.0       50.0         50.0         225      1000000  Medium Fast          270   30       40        70        70      60          1.0       0.50         0.5           2.0        2.00      0.50        1.00         1.00         1.00          1.0           1.0      1.00        1.0           1            1            1          0\n",
            "116     117      Seadra       1     water       NaN         1.2         25.0       50.0         50.0          75      1000000  Medium Fast          395   55       65        95        95      85          1.0       0.50         0.5           2.0        2.00      0.50        1.00         1.00         1.00          1.0           1.0      1.00        1.0           1            1            1          0\n",
            "117     118     Goldeen       1     water       NaN         0.6         15.0       50.0         50.0         225      1000000  Medium Fast          285   45       67        60        50      63          1.0       0.50         0.5           2.0        2.00      0.50        1.00         1.00         1.00          1.0           1.0      1.00        1.0           1            1            1          0\n",
            "118     119     Seaking       1     water       NaN         1.3         39.0       50.0         50.0          60      1000000  Medium Fast          385   80       92        65        80      68          1.0       0.50         0.5           2.0        2.00      0.50        1.00         1.00         1.00          1.0           1.0      1.00        1.0           1            1            1          0\n",
            "119     120      Staryu       1     water       NaN         0.8         34.5        0.0          0.0         225      1250000         Slow          285   30       45        55        70      85          1.0       0.50         0.5           2.0        2.00      0.50        1.00         1.00         1.00          1.0           1.0      1.00        1.0           1            1            1          0\n",
            "120     121     Starmie       2     water   psychic         1.1         80.0        0.0          0.0          60      1250000         Slow          435   60       75        85       100     115          1.0       0.50         0.5           2.0        2.00      0.50        0.50         1.00         1.00          1.0           0.5      2.00        1.0           0            1            1          0\n",
            "121     122      MrMime       1   psychic       NaN         1.3         54.5       50.0         50.0          45      1000000  Medium Fast          340   40       45        65       100      90          1.0       1.00         1.0           1.0        1.00      1.00        0.50         1.00         1.00          1.0           0.5      2.00        1.0           0            1            0          0\n",
            "122     123     Scyther       2       bug    flying         1.5         56.0       50.0         50.0          45      1000000  Medium Fast          420   70      110        80        55     105          1.0       2.00         1.0           2.0        0.25      2.00        0.25         2.00         0.00          2.0           1.0      0.50        4.0           1            1            0          0\n",
            "123     124        Jynx       2       ice   psychic         1.4         40.6        0.0        100.0          45      1000000  Medium Fast          340   65       50        35        95      95          1.0       2.00         1.0           1.0        1.00      0.50        1.00         1.00         1.00          1.0           0.5      2.00        2.0           0            1            0          0\n",
            "124     125  Electabuzz       1  electric       NaN         1.1         30.0       75.0         25.0          45      1000000  Medium Fast          395   65       83        57        85     105          1.0       1.00         1.0           0.5        1.00      1.00        1.00         1.00         2.00          0.5           1.0      1.00        1.0           1            1            0          0\n",
            "125     126      Magmar       1      fire       NaN         1.3         44.5       75.0         25.0          45      1000000  Medium Fast          395   65       95        57        85      93          1.0       0.50         2.0           1.0        0.50      1.00        1.00         1.00         2.00          1.0           1.0      0.50        2.0           1            1            0          0\n",
            "126     127      Pinsir       1       bug       NaN         1.5         55.0       50.0         50.0          45      1250000         Slow          430   65      125       100        55      85          1.0       2.00         1.0           1.0        0.50      1.00        0.50         2.00         0.50          2.0           1.0      1.00        2.0           1            1            0          0\n",
            "127     128      Tauros       1    normal       NaN         1.4         88.4      100.0          0.0          45      1250000         Slow          450   75      100        95        70     110          1.0       1.00         1.0           1.0        1.00      1.00        2.00         1.00         1.00          1.0           1.0      1.00        1.0           0            1            0          0\n",
            "128     129    Magikarp       1     water       NaN         0.9         10.0       50.0         50.0         255      1250000         Slow          185   20       10        55        20      80          1.0       0.50         0.5           2.0        2.00      0.50        1.00         1.00         1.00          1.0           1.0      1.00        1.0           1            1            1          0\n",
            "129     130    Gyarados       2     water    flying         6.5        235.0       50.0         50.0          45      1250000         Slow          480   95      125        79       100      81          1.0       0.50         0.5           4.0        1.00      1.00        0.50         1.00         0.00          1.0           1.0      0.50        2.0           1            1            1          0\n",
            "130     131      Lapras       2     water       ice         2.5        220.0       50.0         50.0          45      1250000         Slow          450  130       85        80        95      60          1.0       1.00         0.5           2.0        2.00      0.25        2.00         1.00         1.00          1.0           1.0      1.00        2.0           1            1            0          0\n",
            "131     132       Ditto       1    normal       NaN         0.3          4.0        0.0          0.0          35      1000000  Medium Fast          240   48       48        48        48      48          1.0       1.00         1.0           1.0        1.00      1.00        2.00         1.00         1.00          1.0           1.0      1.00        1.0           0            1            0          0\n",
            "132     133       Eevee       1    normal       NaN         0.3          6.5       87.5         12.5          45      1000000  Medium Fast          280   55       55        50        65      55          1.0       1.00         1.0           1.0        1.00      1.00        2.00         1.00         1.00          1.0           1.0      1.00        1.0           0            1            3          0\n",
            "133     134    Vaporeon       1     water       NaN         1.0         29.0       87.5         12.5          45      1000000  Medium Fast          430  130       65        60       110      65          1.0       0.50         0.5           2.0        2.00      0.50        1.00         1.00         1.00          1.0           1.0      1.00        1.0           1            1            3          0\n",
            "134     135     Jolteon       1  electric       NaN         0.8         24.5       87.5         12.5          45      1000000  Medium Fast          430   65       65        60       110     130          1.0       1.00         1.0           0.5        1.00      1.00        1.00         1.00         2.00          0.5           1.0      1.00        1.0           1            1            3          0\n",
            "135     136     Flareon       1      fire       NaN         0.9         25.0       87.5         12.5          45      1000000  Medium Fast          430   65      130        60       110      65          1.0       0.50         2.0           1.0        0.50      1.00        1.00         1.00         2.00          1.0           1.0      0.50        2.0           1            1            3          0\n",
            "136     137     Porygon       1    normal       NaN         0.8         36.5        0.0          0.0          45      1000000  Medium Fast          310   65       60        70        75      40          1.0       1.00         1.0           1.0        1.00      1.00        2.00         1.00         1.00          1.0           1.0      1.00        1.0           0            1            0          0\n",
            "137     138     Omanyte       2      rock     water         0.4          7.5       87.5         12.5          45      1000000  Medium Fast          300   35       40       100        90      35          0.5       0.25         1.0           2.0        4.00      0.50        2.00         0.50         2.00          0.5           1.0      1.00        1.0           1            1            1          0\n",
            "138     139     Omastar       2      rock     water         1.0         35.0       87.5         12.5          45      1000000  Medium Fast          425   70       60       125       115      55          0.5       0.25         1.0           2.0        4.00      0.50        2.00         0.50         2.00          0.5           1.0      1.00        1.0           1            1            1          0\n",
            "139     140      Kabuto       2      rock     water         0.5         11.5       87.5         12.5          45      1000000  Medium Fast          300   30       80        90        45      55          0.5       0.25         1.0           2.0        4.00      0.50        2.00         0.50         2.00          0.5           1.0      1.00        1.0           1            1            1          0\n",
            "140     141    Kabutops       2      rock     water         1.3         40.5       87.5         12.5          45      1000000  Medium Fast          430   60      115       105        70      80          0.5       0.25         1.0           2.0        4.00      0.50        2.00         0.50         2.00          0.5           1.0      1.00        1.0           1            1            1          0\n",
            "141     142  Aerodactyl       2      rock    flying         1.8         59.0       87.5         12.5          45      1250000         Slow          440   80      105        65        60     130          0.5       0.50         2.0           2.0        1.00      2.00        1.00         0.50         0.00          0.5           1.0      0.50        2.0           1            1            0          0\n",
            "142     143     Snorlax       1    normal       NaN         2.1        460.0       87.5         12.5          25      1250000         Slow          430  160      110        65        65      30          1.0       1.00         1.0           1.0        1.00      1.00        2.00         1.00         1.00          1.0           1.0      1.00        1.0           0            1            0          0\n",
            "143     144    Articuno       2       ice    flying         1.7         55.4        0.0          0.0           3      1250000         Slow          485   90       85       100       125      85          1.0       2.00         1.0           2.0        0.50      1.00        1.00         1.00         0.00          1.0           1.0      0.50        4.0           1            1            0          1\n",
            "144     145      Zapdos       2  electric    flying         1.6         52.6        0.0          0.0           3      1250000         Slow          490   90       90        85       125     100          1.0       1.00         1.0           1.0        0.50      2.00        0.50         1.00         0.00          0.5           1.0      0.50        2.0           1            1            0          1\n",
            "145     146     Moltres       2      fire    flying         2.0         60.0        0.0          0.0           3      1250000         Slow          495   90      100        90       125      90          1.0       0.50         2.0           2.0        0.25      2.00        0.50         1.00         0.00          1.0           1.0      0.25        4.0           1            1            0          1\n",
            "146     147     Dratini       1    dragon       NaN         1.8          3.3       50.0         50.0          45      1250000         Slow          250   41       64        45        50      50          1.0       0.50         0.5           0.5        0.50      2.00        1.00         1.00         1.00          1.0           1.0      1.00        1.0           1            2            2          0\n",
            "147     148   Dragonair       1    dragon       NaN         4.0         16.5       50.0         50.0          45      1250000         Slow          350   61       84        65        70      70          1.0       0.50         0.5           0.5        0.50      2.00        1.00         1.00         1.00          1.0           1.0      1.00        1.0           1            2            2          0\n",
            "148     149   Dragonite       2    dragon    flying         2.2        210.0       50.0         50.0          45      1250000         Slow          500   91      134        95       100      80          1.0       0.50         0.5           1.0        0.25      4.00        0.50         1.00         0.00          1.0           1.0      0.50        2.0           1            2            2          0\n",
            "149     150      Mewtwo       1   psychic       NaN         2.0        122.0        0.0          0.0           3      1250000         Slow          590  106      110        90       154     130          1.0       1.00         1.0           1.0        1.00      1.00        0.50         1.00         1.00          1.0           0.5      2.00        1.0           0            1            0          1\n",
            "150     151         Mew       1   psychic       NaN         0.4          4.0        0.0          0.0          45      1059860  Medium Slow          500  100      100       100       100     100          1.0       1.00         1.0           1.0        1.00      1.00        0.50         1.00         1.00          1.0           0.5      2.00        1.0           0            1            0          1\n"
          ]
        }
      ]
    },
    {
      "cell_type": "code",
      "source": [
        "import pandas as pd\n",
        "\n",
        "df = pd.read_json(\"/content/pokedex.json\")\n",
        "\n",
        "print(df)"
      ],
      "metadata": {
        "colab": {
          "base_uri": "https://localhost:8080/"
        },
        "collapsed": true,
        "id": "2I6O2AlJUN3Z",
        "outputId": "14909245-ae6b-4904-8867-18f802abd522"
      },
      "execution_count": null,
      "outputs": [
        {
          "output_type": "stream",
          "name": "stdout",
          "text": [
            "                                               pokemon\n",
            "0    {'id': 1, 'num': '001', 'name': 'Bulbasaur', '...\n",
            "1    {'id': 2, 'num': '002', 'name': 'Ivysaur', 'im...\n",
            "2    {'id': 3, 'num': '003', 'name': 'Venusaur', 'i...\n",
            "3    {'id': 4, 'num': '004', 'name': 'Charmander', ...\n",
            "4    {'id': 5, 'num': '005', 'name': 'Charmeleon', ...\n",
            "..                                                 ...\n",
            "146  {'id': 147, 'num': '147', 'name': 'Dratini', '...\n",
            "147  {'id': 148, 'num': '148', 'name': 'Dragonair',...\n",
            "148  {'id': 149, 'num': '149', 'name': 'Dragonite',...\n",
            "149  {'id': 150, 'num': '150', 'name': 'Mewtwo', 'i...\n",
            "150  {'id': 151, 'num': '151', 'name': 'Mew', 'img'...\n",
            "\n",
            "[151 rows x 1 columns]\n"
          ]
        }
      ]
    },
    {
      "cell_type": "code",
      "source": [
        "import pandas as pd\n",
        "\n",
        "df = pd.read_json(\"/content/pokedex.json\")\n",
        "\n",
        "print(df.to_string()) #For Printing all the contents from the dataset/file"
      ],
      "metadata": {
        "id": "dUNcyIHWS4mY"
      },
      "execution_count": null,
      "outputs": []
    },
    {
      "cell_type": "markdown",
      "source": [
        "# Selection in csv file"
      ],
      "metadata": {
        "id": "ey6ztmQDT0Ed"
      }
    },
    {
      "cell_type": "code",
      "source": [
        "import pandas as pd\n",
        "\n",
        "df = pd.read_csv(\"/content/FirstGenPokemon.csv\")\n",
        "\n",
        "print(df[\" Name\"])"
      ],
      "metadata": {
        "colab": {
          "base_uri": "https://localhost:8080/"
        },
        "id": "Q47w8G3FS-gG",
        "outputId": "ad50ca0d-2687-4dae-9064-bc4dd8161c7c"
      },
      "execution_count": null,
      "outputs": [
        {
          "output_type": "stream",
          "name": "stdout",
          "text": [
            "0       Bulbasaur\n",
            "1         Ivysaur\n",
            "2        Venusaur\n",
            "3      Charmander\n",
            "4      Charmeleon\n",
            "          ...    \n",
            "146       Dratini\n",
            "147     Dragonair\n",
            "148     Dragonite\n",
            "149        Mewtwo\n",
            "150           Mew\n",
            "Name:  Name, Length: 151, dtype: object\n"
          ]
        }
      ]
    },
    {
      "cell_type": "markdown",
      "source": [
        "# SELECTION BY COLUMN"
      ],
      "metadata": {
        "id": "25WJM9L5X-TK"
      }
    },
    {
      "cell_type": "code",
      "source": [
        "import pandas as pd\n",
        "\n",
        "df = pd.read_csv(\"/content/FirstGenPokemon.csv\")\n",
        "\n",
        "print(df[\" Name\"].to_string()) # For Printing all the data from file"
      ],
      "metadata": {
        "id": "wAD4VrxoUrZW"
      },
      "execution_count": null,
      "outputs": []
    },
    {
      "cell_type": "code",
      "source": [
        "import pandas as pd\n",
        "\n",
        "df = pd.read_csv(\"/content/FirstGenPokemon.csv\")\n",
        "\n",
        "print(df[\" Height(m)\"])"
      ],
      "metadata": {
        "colab": {
          "base_uri": "https://localhost:8080/"
        },
        "id": "m55eRf8KVKHi",
        "outputId": "14f42e0c-f229-4b02-edc9-1d1d72a14f65"
      },
      "execution_count": null,
      "outputs": [
        {
          "output_type": "stream",
          "name": "stdout",
          "text": [
            "0      0.7\n",
            "1      1.0\n",
            "2      2.0\n",
            "3      0.6\n",
            "4      1.1\n",
            "      ... \n",
            "146    1.8\n",
            "147    4.0\n",
            "148    2.2\n",
            "149    2.0\n",
            "150    0.4\n",
            "Name:  Height(m), Length: 151, dtype: float64\n"
          ]
        }
      ]
    },
    {
      "cell_type": "code",
      "metadata": {
        "colab": {
          "base_uri": "https://localhost:8080/"
        },
        "id": "1479f04f",
        "outputId": "782cd244-f62a-4517-f38a-1a10dbc60b46"
      },
      "source": [
        "import pandas as pd\n",
        "\n",
        "df = pd.read_csv(\"/content/FirstGenPokemon.csv\")\n",
        "\n",
        "print(df[\" Weight(kg)\"])"
      ],
      "execution_count": null,
      "outputs": [
        {
          "output_type": "stream",
          "name": "stdout",
          "text": [
            "0        6.9\n",
            "1       13.0\n",
            "2      100.0\n",
            "3        8.5\n",
            "4       19.0\n",
            "       ...  \n",
            "146      3.3\n",
            "147     16.5\n",
            "148    210.0\n",
            "149    122.0\n",
            "150      4.0\n",
            "Name:  Weight(kg), Length: 151, dtype: float64\n"
          ]
        }
      ]
    },
    {
      "cell_type": "code",
      "source": [
        "import pandas as pd\n",
        "\n",
        "df = pd.read_csv(\"/content/FirstGenPokemon.csv\")\n",
        "\n",
        "print(df[[\" Name\", \" Height(m)\", \" Weight(kg)\"]])"
      ],
      "metadata": {
        "colab": {
          "base_uri": "https://localhost:8080/"
        },
        "id": "YjbsPjGGWFZz",
        "outputId": "1f9fd86e-ba55-4984-b9f1-3a10ae8acd63"
      },
      "execution_count": null,
      "outputs": [
        {
          "output_type": "stream",
          "name": "stdout",
          "text": [
            "           Name  Height(m)  Weight(kg)\n",
            "0     Bulbasaur        0.7         6.9\n",
            "1       Ivysaur        1.0        13.0\n",
            "2      Venusaur        2.0       100.0\n",
            "3    Charmander        0.6         8.5\n",
            "4    Charmeleon        1.1        19.0\n",
            "..          ...        ...         ...\n",
            "146     Dratini        1.8         3.3\n",
            "147   Dragonair        4.0        16.5\n",
            "148   Dragonite        2.2       210.0\n",
            "149      Mewtwo        2.0       122.0\n",
            "150         Mew        0.4         4.0\n",
            "\n",
            "[151 rows x 3 columns]\n"
          ]
        }
      ]
    },
    {
      "cell_type": "markdown",
      "source": [
        "# SELECTION BY ROWS"
      ],
      "metadata": {
        "id": "J09-qjgQYMGk"
      }
    },
    {
      "cell_type": "code",
      "source": [
        "import pandas as pd\n",
        "\n",
        "df = pd.read_csv(\"/content/FirstGenPokemon.csv\")\n",
        "\n",
        "print(df.loc[0])"
      ],
      "metadata": {
        "colab": {
          "base_uri": "https://localhost:8080/"
        },
        "id": "Zlg5etd2Xm1O",
        "outputId": "73a1a194-b61c-4c74-9034-9963fa9f4169"
      },
      "execution_count": null,
      "outputs": [
        {
          "output_type": "stream",
          "name": "stdout",
          "text": [
            "Number                    1\n",
            " Name             Bulbasaur\n",
            " Types                    2\n",
            " Type1                grass\n",
            " Type2               poison\n",
            " Height(m)              0.7\n",
            " Weight(kg)             6.9\n",
            " Male_Pct              87.5\n",
            " Female_Pct            12.5\n",
            " Capt_Rate               45\n",
            " Exp_Points         1059860\n",
            " Exp_Speed      Medium Slow\n",
            " Base_Total             253\n",
            " HP                      45\n",
            " Attack                  49\n",
            " Defense                 49\n",
            " Special                 65\n",
            " Speed                   45\n",
            " Normal_Dmg             1.0\n",
            " Fire_Dmg               2.0\n",
            " Water_Dmg              0.5\n",
            " Eletric_Dmg            0.5\n",
            " Grass_Dmg             0.25\n",
            " Ice_Dmg                2.0\n",
            " Fight_Dmg              0.5\n",
            " Poison_Dmg             1.0\n",
            " Ground_Dmg             1.0\n",
            " Flying_Dmg             2.0\n",
            " Psychic_Dmg            2.0\n",
            " Bug_Dmg                4.0\n",
            " Rock_Dmg               1.0\n",
            " Ghost_Dmg                1\n",
            " Dragon_Dmg               1\n",
            " Evolutions               2\n",
            "Legendary                 0\n",
            "Name: 0, dtype: object\n"
          ]
        }
      ]
    },
    {
      "cell_type": "code",
      "source": [
        "import pandas as pd\n",
        "\n",
        "df = pd.read_csv(\"/content/FirstGenPokemon.csv\", index_col=\" Name\") # for using search by name\n",
        "\n",
        "print(df)"
      ],
      "metadata": {
        "colab": {
          "base_uri": "https://localhost:8080/"
        },
        "id": "exkm-XlDYfl-",
        "outputId": "9abb6a66-dd28-44ac-9601-b8e8a088af06"
      },
      "execution_count": null,
      "outputs": [
        {
          "output_type": "stream",
          "name": "stdout",
          "text": [
            "            Number   Types    Type1   Type2   Height(m)   Weight(kg)  \\\n",
            " Name                                                                  \n",
            "Bulbasaur        1       2    grass  poison         0.7          6.9   \n",
            "Ivysaur          2       2    grass  poison         1.0         13.0   \n",
            "Venusaur         3       2    grass  poison         2.0        100.0   \n",
            "Charmander       4       1     fire     NaN         0.6          8.5   \n",
            "Charmeleon       5       1     fire     NaN         1.1         19.0   \n",
            "...            ...     ...      ...     ...         ...          ...   \n",
            "Dratini        147       1   dragon     NaN         1.8          3.3   \n",
            "Dragonair      148       1   dragon     NaN         4.0         16.5   \n",
            "Dragonite      149       2   dragon  flying         2.2        210.0   \n",
            "Mewtwo         150       1  psychic     NaN         2.0        122.0   \n",
            "Mew            151       1  psychic     NaN         0.4          4.0   \n",
            "\n",
            "             Male_Pct   Female_Pct   Capt_Rate   Exp_Points  ...  Poison_Dmg  \\\n",
            " Name                                                        ...               \n",
            "Bulbasaur        87.5         12.5          45      1059860  ...         1.0   \n",
            "Ivysaur          87.5         12.5          45      1059860  ...         1.0   \n",
            "Venusaur         87.5         12.5          45      1059860  ...         1.0   \n",
            "Charmander       87.5         12.5          45      1059860  ...         1.0   \n",
            "Charmeleon       87.5         12.5          45      1059860  ...         1.0   \n",
            "...               ...          ...         ...          ...  ...         ...   \n",
            "Dratini          50.0         50.0          45      1250000  ...         1.0   \n",
            "Dragonair        50.0         50.0          45      1250000  ...         1.0   \n",
            "Dragonite        50.0         50.0          45      1250000  ...         1.0   \n",
            "Mewtwo            0.0          0.0           3      1250000  ...         1.0   \n",
            "Mew               0.0          0.0          45      1059860  ...         1.0   \n",
            "\n",
            "             Ground_Dmg   Flying_Dmg   Psychic_Dmg   Bug_Dmg   Rock_Dmg  \\\n",
            " Name                                                                     \n",
            "Bulbasaur           1.0          2.0           2.0       4.0        1.0   \n",
            "Ivysaur             1.0          2.0           2.0       4.0        1.0   \n",
            "Venusaur            1.0          2.0           2.0       4.0        1.0   \n",
            "Charmander          2.0          1.0           1.0       0.5        2.0   \n",
            "Charmeleon          2.0          1.0           1.0       0.5        2.0   \n",
            "...                 ...          ...           ...       ...        ...   \n",
            "Dratini             1.0          1.0           1.0       1.0        1.0   \n",
            "Dragonair           1.0          1.0           1.0       1.0        1.0   \n",
            "Dragonite           0.0          1.0           1.0       0.5        2.0   \n",
            "Mewtwo              1.0          1.0           0.5       2.0        1.0   \n",
            "Mew                 1.0          1.0           0.5       2.0        1.0   \n",
            "\n",
            "             Ghost_Dmg   Dragon_Dmg   Evolutions  Legendary  \n",
            " Name                                                        \n",
            "Bulbasaur            1            1            2          0  \n",
            "Ivysaur              1            1            2          0  \n",
            "Venusaur             1            1            2          0  \n",
            "Charmander           1            1            2          0  \n",
            "Charmeleon           1            1            2          0  \n",
            "...                ...          ...          ...        ...  \n",
            "Dratini              1            2            2          0  \n",
            "Dragonair            1            2            2          0  \n",
            "Dragonite            1            2            2          0  \n",
            "Mewtwo               0            1            0          1  \n",
            "Mew                  0            1            0          1  \n",
            "\n",
            "[151 rows x 34 columns]\n"
          ]
        }
      ]
    },
    {
      "cell_type": "code",
      "source": [
        "import pandas as pd\n",
        "\n",
        "df = pd.read_csv(\"/content/FirstGenPokemon.csv\", index_col=\" Name\")\n",
        "\n",
        "print(df.loc[\"Pikachu\"])"
      ],
      "metadata": {
        "colab": {
          "base_uri": "https://localhost:8080/"
        },
        "id": "3TyF1_wfY6Ve",
        "outputId": "ec45c329-e429-401a-99df-f9320a5b7e10"
      },
      "execution_count": null,
      "outputs": [
        {
          "output_type": "stream",
          "name": "stdout",
          "text": [
            "Number                   25\n",
            " Types                    1\n",
            " Type1             electric\n",
            " Type2                  NaN\n",
            " Height(m)              0.4\n",
            " Weight(kg)             6.0\n",
            " Male_Pct              50.0\n",
            " Female_Pct            50.0\n",
            " Capt_Rate              190\n",
            " Exp_Points         1000000\n",
            " Exp_Speed      Medium Fast\n",
            " Base_Total             260\n",
            " HP                      35\n",
            " Attack                  55\n",
            " Defense                 30\n",
            " Special                 50\n",
            " Speed                   90\n",
            " Normal_Dmg             1.0\n",
            " Fire_Dmg               1.0\n",
            " Water_Dmg              1.0\n",
            " Eletric_Dmg            0.5\n",
            " Grass_Dmg              1.0\n",
            " Ice_Dmg                1.0\n",
            " Fight_Dmg              1.0\n",
            " Poison_Dmg             1.0\n",
            " Ground_Dmg             2.0\n",
            " Flying_Dmg             0.5\n",
            " Psychic_Dmg            1.0\n",
            " Bug_Dmg                1.0\n",
            " Rock_Dmg               1.0\n",
            " Ghost_Dmg                1\n",
            " Dragon_Dmg               1\n",
            " Evolutions               1\n",
            "Legendary                 0\n",
            "Name: Pikachu, dtype: object\n"
          ]
        }
      ]
    },
    {
      "cell_type": "code",
      "source": [
        "import pandas as pd\n",
        "\n",
        "df = pd.read_csv(\"/content/FirstGenPokemon.csv\", index_col=\" Name\")\n",
        "\n",
        "print(df.loc[\"Pikachu\", [\" Height(m)\",\" Weight(kg)\"]])"
      ],
      "metadata": {
        "colab": {
          "base_uri": "https://localhost:8080/"
        },
        "id": "zMX8sfJLZXdG",
        "outputId": "0a911ec7-a1c6-465d-ad29-d59c5ab0ae58"
      },
      "execution_count": null,
      "outputs": [
        {
          "output_type": "stream",
          "name": "stdout",
          "text": [
            "Height(m)     0.4\n",
            "Weight(kg)    6.0\n",
            "Name: Pikachu, dtype: object\n"
          ]
        }
      ]
    },
    {
      "cell_type": "code",
      "source": [
        "import pandas as pd\n",
        "\n",
        "df = pd.read_csv(\"/content/FirstGenPokemon.csv\", index_col=\" Name\")\n",
        "\n",
        "print(df.loc[\"Pikachu\":\"Raichu\", [\" Height(m)\",\" Weight(kg)\"]])"
      ],
      "metadata": {
        "colab": {
          "base_uri": "https://localhost:8080/"
        },
        "id": "rrh4NsJtZ2Vy",
        "outputId": "957dc92a-7a6c-4094-8ca8-43a27bd4f56f"
      },
      "execution_count": null,
      "outputs": [
        {
          "output_type": "stream",
          "name": "stdout",
          "text": [
            "         Height(m)  Weight(kg)\n",
            " Name                         \n",
            "Pikachu        0.4         6.0\n",
            "Raichu         0.8        30.0\n"
          ]
        }
      ]
    },
    {
      "cell_type": "code",
      "source": [
        "import pandas as pd\n",
        "\n",
        "df = pd.read_csv(\"/content/FirstGenPokemon.csv\")\n",
        "\n",
        "print(df.loc[0:11])"
      ],
      "metadata": {
        "colab": {
          "base_uri": "https://localhost:8080/"
        },
        "id": "ksS_hwYhagJO",
        "outputId": "643e107d-bf53-44c6-9143-55a01f942e93"
      },
      "execution_count": null,
      "outputs": [
        {
          "output_type": "stream",
          "name": "stdout",
          "text": [
            "    Number        Name   Types  Type1   Type2   Height(m)   Weight(kg)  \\\n",
            "0        1   Bulbasaur       2  grass  poison         0.7          6.9   \n",
            "1        2     Ivysaur       2  grass  poison         1.0         13.0   \n",
            "2        3    Venusaur       2  grass  poison         2.0        100.0   \n",
            "3        4  Charmander       1   fire     NaN         0.6          8.5   \n",
            "4        5  Charmeleon       1   fire     NaN         1.1         19.0   \n",
            "5        6   Charizard       2   fire  flying         1.7         90.5   \n",
            "6        7    Squirtle       1  water     NaN         0.5          9.0   \n",
            "7        8   Wartortle       1  water     NaN         1.0         22.5   \n",
            "8        9   Blastoise       1  water     NaN         1.6         85.5   \n",
            "9       10    Caterpie       1    bug     NaN         0.3          2.9   \n",
            "10      11     Metapod       1    bug     NaN         0.7          9.9   \n",
            "11      12  Butterfree       2    bug  flying         1.1         32.0   \n",
            "\n",
            "     Male_Pct   Female_Pct   Capt_Rate  ...   Poison_Dmg  Ground_Dmg  \\\n",
            "0        87.5         12.5          45  ...          1.0         1.0   \n",
            "1        87.5         12.5          45  ...          1.0         1.0   \n",
            "2        87.5         12.5          45  ...          1.0         1.0   \n",
            "3        87.5         12.5          45  ...          1.0         2.0   \n",
            "4        87.5         12.5          45  ...          1.0         2.0   \n",
            "5        87.5         12.5          45  ...          1.0         0.0   \n",
            "6        87.5         12.5          45  ...          1.0         1.0   \n",
            "7        87.5         12.5          45  ...          1.0         1.0   \n",
            "8        87.5         12.5          45  ...          1.0         1.0   \n",
            "9        50.0         50.0         255  ...          2.0         0.5   \n",
            "10       50.0         50.0         120  ...          2.0         0.5   \n",
            "11       50.0         50.0          45  ...          2.0         0.0   \n",
            "\n",
            "     Flying_Dmg   Psychic_Dmg   Bug_Dmg   Rock_Dmg   Ghost_Dmg   Dragon_Dmg  \\\n",
            "0           2.0           2.0      4.00        1.0           1            1   \n",
            "1           2.0           2.0      4.00        1.0           1            1   \n",
            "2           2.0           2.0      4.00        1.0           1            1   \n",
            "3           1.0           1.0      0.50        2.0           1            1   \n",
            "4           1.0           1.0      0.50        2.0           1            1   \n",
            "5           1.0           1.0      0.25        4.0           1            1   \n",
            "6           1.0           1.0      1.00        1.0           1            1   \n",
            "7           1.0           1.0      1.00        1.0           1            1   \n",
            "8           1.0           1.0      1.00        1.0           1            1   \n",
            "9           2.0           1.0      1.00        2.0           1            1   \n",
            "10          2.0           1.0      1.00        2.0           1            1   \n",
            "11          2.0           1.0      0.50        4.0           1            1   \n",
            "\n",
            "     Evolutions  Legendary  \n",
            "0             2          0  \n",
            "1             2          0  \n",
            "2             2          0  \n",
            "3             2          0  \n",
            "4             2          0  \n",
            "5             2          0  \n",
            "6             2          0  \n",
            "7             2          0  \n",
            "8             2          0  \n",
            "9             2          0  \n",
            "10            2          0  \n",
            "11            2          0  \n",
            "\n",
            "[12 rows x 35 columns]\n"
          ]
        }
      ]
    },
    {
      "cell_type": "code",
      "source": [
        "import pandas as pd\n",
        "\n",
        "df = pd.read_csv(\"/content/FirstGenPokemon.csv\")\n",
        "\n",
        "print(df.loc[0:11:2])"
      ],
      "metadata": {
        "colab": {
          "base_uri": "https://localhost:8080/"
        },
        "id": "eYffDvwHa4OM",
        "outputId": "cfba988b-d576-486f-c9ae-028ccd9cf326"
      },
      "execution_count": null,
      "outputs": [
        {
          "output_type": "stream",
          "name": "stdout",
          "text": [
            "    Number        Name   Types  Type1   Type2   Height(m)   Weight(kg)  \\\n",
            "0        1   Bulbasaur       2  grass  poison         0.7          6.9   \n",
            "2        3    Venusaur       2  grass  poison         2.0        100.0   \n",
            "4        5  Charmeleon       1   fire     NaN         1.1         19.0   \n",
            "6        7    Squirtle       1  water     NaN         0.5          9.0   \n",
            "8        9   Blastoise       1  water     NaN         1.6         85.5   \n",
            "10      11     Metapod       1    bug     NaN         0.7          9.9   \n",
            "\n",
            "     Male_Pct   Female_Pct   Capt_Rate  ...   Poison_Dmg  Ground_Dmg  \\\n",
            "0        87.5         12.5          45  ...          1.0         1.0   \n",
            "2        87.5         12.5          45  ...          1.0         1.0   \n",
            "4        87.5         12.5          45  ...          1.0         2.0   \n",
            "6        87.5         12.5          45  ...          1.0         1.0   \n",
            "8        87.5         12.5          45  ...          1.0         1.0   \n",
            "10       50.0         50.0         120  ...          2.0         0.5   \n",
            "\n",
            "     Flying_Dmg   Psychic_Dmg   Bug_Dmg   Rock_Dmg   Ghost_Dmg   Dragon_Dmg  \\\n",
            "0           2.0           2.0       4.0        1.0           1            1   \n",
            "2           2.0           2.0       4.0        1.0           1            1   \n",
            "4           1.0           1.0       0.5        2.0           1            1   \n",
            "6           1.0           1.0       1.0        1.0           1            1   \n",
            "8           1.0           1.0       1.0        1.0           1            1   \n",
            "10          2.0           1.0       1.0        2.0           1            1   \n",
            "\n",
            "     Evolutions  Legendary  \n",
            "0             2          0  \n",
            "2             2          0  \n",
            "4             2          0  \n",
            "6             2          0  \n",
            "8             2          0  \n",
            "10            2          0  \n",
            "\n",
            "[6 rows x 35 columns]\n"
          ]
        }
      ]
    },
    {
      "cell_type": "code",
      "source": [
        "import pandas as pd\n",
        "\n",
        "df = pd.read_csv(\"/content/FirstGenPokemon.csv\", index_col=\" Name\")\n",
        "\n",
        "pokemon = input(\"Enter the name of the pokemon: \")\n",
        "\n",
        "try:\n",
        "  print(df.loc[pokemon])\n",
        "except:\n",
        "  print(\"Pokemon not found\")"
      ],
      "metadata": {
        "colab": {
          "base_uri": "https://localhost:8080/"
        },
        "id": "qHs_l2Eoa9Uh",
        "outputId": "43da0a6d-f972-4085-8bd5-d3186df8462c"
      },
      "execution_count": null,
      "outputs": [
        {
          "output_type": "stream",
          "name": "stdout",
          "text": [
            "Enter the name of the pokemon: Pikachu\n",
            "Number                   25\n",
            " Types                    1\n",
            " Type1             electric\n",
            " Type2                  NaN\n",
            " Height(m)              0.4\n",
            " Weight(kg)             6.0\n",
            " Male_Pct              50.0\n",
            " Female_Pct            50.0\n",
            " Capt_Rate              190\n",
            " Exp_Points         1000000\n",
            " Exp_Speed      Medium Fast\n",
            " Base_Total             260\n",
            " HP                      35\n",
            " Attack                  55\n",
            " Defense                 30\n",
            " Special                 50\n",
            " Speed                   90\n",
            " Normal_Dmg             1.0\n",
            " Fire_Dmg               1.0\n",
            " Water_Dmg              1.0\n",
            " Eletric_Dmg            0.5\n",
            " Grass_Dmg              1.0\n",
            " Ice_Dmg                1.0\n",
            " Fight_Dmg              1.0\n",
            " Poison_Dmg             1.0\n",
            " Ground_Dmg             2.0\n",
            " Flying_Dmg             0.5\n",
            " Psychic_Dmg            1.0\n",
            " Bug_Dmg                1.0\n",
            " Rock_Dmg               1.0\n",
            " Ghost_Dmg                1\n",
            " Dragon_Dmg               1\n",
            " Evolutions               1\n",
            "Legendary                 0\n",
            "Name: Pikachu, dtype: object\n"
          ]
        }
      ]
    },
    {
      "cell_type": "code",
      "source": [
        "import pandas as pd\n",
        "\n",
        "df = pd.read_csv(\"/content/FirstGenPokemon.csv\", index_col=\" Name\")\n",
        "\n",
        "pokemon = input(\"Enter the name of the pokemon: \")\n",
        "\n",
        "try:\n",
        "  print(df.loc[pokemon])\n",
        "except:\n",
        "  print(\"Pokemon not found\")"
      ],
      "metadata": {
        "colab": {
          "base_uri": "https://localhost:8080/"
        },
        "id": "PfmKWoalbGLA",
        "outputId": "4d03d9b0-0c52-41b3-da2c-a556709f9f28"
      },
      "execution_count": null,
      "outputs": [
        {
          "output_type": "stream",
          "name": "stdout",
          "text": [
            "Enter the name of the pokemon: Greninja\n",
            "Pokemon not found\n"
          ]
        }
      ]
    },
    {
      "cell_type": "markdown",
      "source": [
        "# Filtering"
      ],
      "metadata": {
        "id": "WssOHS1Z_3Sj"
      }
    },
    {
      "cell_type": "code",
      "source": [
        "import pandas as pd\n",
        "\n",
        "df = pd.read_csv(\"/content/FirstGenPokemon.csv\")\n",
        "\n",
        "   # Filtering = Keeping the rows that match a condition\n",
        "\n",
        "tall_pokemon = df[df[\" Height(m)\"] >= 2]\n",
        "\n",
        "print(tall_pokemon)"
      ],
      "metadata": {
        "id": "tB-uIpLEcB1V",
        "colab": {
          "base_uri": "https://localhost:8080/"
        },
        "outputId": "af11ccd0-9047-44a2-8683-a51897e5c164"
      },
      "execution_count": 2,
      "outputs": [
        {
          "output_type": "stream",
          "name": "stdout",
          "text": [
            "     Number        Name   Types    Type1    Type2   Height(m)   Weight(kg)  \\\n",
            "2         3    Venusaur       2    grass   poison         2.0        100.0   \n",
            "22       23       Ekans       1   poison      NaN         2.0          6.9   \n",
            "23       24       Arbok       1   poison      NaN         3.5         65.0   \n",
            "94       95        Onix       2     rock   ground         8.8        210.0   \n",
            "102     103   Exeggutor       2    grass  psychic         2.0        120.0   \n",
            "114     115  Kangaskhan       1   normal      NaN         2.2         80.0   \n",
            "129     130    Gyarados       2    water   flying         6.5        235.0   \n",
            "130     131      Lapras       2    water      ice         2.5        220.0   \n",
            "142     143     Snorlax       1   normal      NaN         2.1        460.0   \n",
            "145     146     Moltres       2     fire   flying         2.0         60.0   \n",
            "147     148   Dragonair       1   dragon      NaN         4.0         16.5   \n",
            "148     149   Dragonite       2   dragon   flying         2.2        210.0   \n",
            "149     150      Mewtwo       1  psychic      NaN         2.0        122.0   \n",
            "\n",
            "      Male_Pct   Female_Pct   Capt_Rate  ...   Poison_Dmg  Ground_Dmg  \\\n",
            "2         87.5         12.5          45  ...         1.00         1.0   \n",
            "22        50.0         50.0         255  ...         0.50         2.0   \n",
            "23        50.0         50.0          90  ...         0.50         2.0   \n",
            "94        50.0         50.0          45  ...         0.25         2.0   \n",
            "102       50.0         50.0          45  ...         2.00         0.5   \n",
            "114        0.0        100.0          45  ...         1.00         1.0   \n",
            "129       50.0         50.0          45  ...         1.00         0.0   \n",
            "130       50.0         50.0          45  ...         1.00         1.0   \n",
            "142       87.5         12.5          25  ...         1.00         1.0   \n",
            "145        0.0          0.0           3  ...         1.00         0.0   \n",
            "147       50.0         50.0          45  ...         1.00         1.0   \n",
            "148       50.0         50.0          45  ...         1.00         0.0   \n",
            "149        0.0          0.0           3  ...         1.00         1.0   \n",
            "\n",
            "      Flying_Dmg   Psychic_Dmg   Bug_Dmg   Rock_Dmg   Ghost_Dmg   Dragon_Dmg  \\\n",
            "2            2.0           2.0      4.00        1.0           1            1   \n",
            "22           1.0           2.0      2.00        1.0           1            1   \n",
            "23           1.0           2.0      2.00        1.0           1            1   \n",
            "94           0.5           1.0      1.00        0.5           1            1   \n",
            "102          2.0           0.5      4.00        1.0           0            1   \n",
            "114          1.0           1.0      1.00        1.0           0            1   \n",
            "129          1.0           1.0      0.50        2.0           1            1   \n",
            "130          1.0           1.0      1.00        2.0           1            1   \n",
            "142          1.0           1.0      1.00        1.0           0            1   \n",
            "145          1.0           1.0      0.25        4.0           1            1   \n",
            "147          1.0           1.0      1.00        1.0           1            2   \n",
            "148          1.0           1.0      0.50        2.0           1            2   \n",
            "149          1.0           0.5      2.00        1.0           0            1   \n",
            "\n",
            "      Evolutions  Legendary  \n",
            "2              2          0  \n",
            "22             1          0  \n",
            "23             1          0  \n",
            "94             0          0  \n",
            "102            1          0  \n",
            "114            0          0  \n",
            "129            1          0  \n",
            "130            0          0  \n",
            "142            0          0  \n",
            "145            0          1  \n",
            "147            2          0  \n",
            "148            2          0  \n",
            "149            0          1  \n",
            "\n",
            "[13 rows x 35 columns]\n"
          ]
        }
      ]
    },
    {
      "cell_type": "code",
      "source": [
        "import pandas as pd\n",
        "\n",
        "df = pd.read_csv(\"/content/FirstGenPokemon.csv\")\n",
        "\n",
        "   # Filtering = Keeping the rows that match a condition\n",
        "\n",
        "heavy_pokemon = df[df[\" Weight(kg)\"] > 100]\n",
        "\n",
        "print(heavy_pokemon)"
      ],
      "metadata": {
        "colab": {
          "base_uri": "https://localhost:8080/"
        },
        "id": "ePQoshOYCRXI",
        "outputId": "9843ebb5-15aa-4313-df79-5b1b23517074"
      },
      "execution_count": 3,
      "outputs": [
        {
          "output_type": "stream",
          "name": "stdout",
          "text": [
            "     Number       Name   Types     Type1    Type2   Height(m)   Weight(kg)  \\\n",
            "58       59   Arcanine       1      fire      NaN         1.9        155.0   \n",
            "67       68    Machamp       1  fighting      NaN         1.6        130.0   \n",
            "74       75   Graveler       2      rock   ground         1.0        105.0   \n",
            "75       76      Golem       2      rock   ground         1.4        300.0   \n",
            "86       87    Dewgong       2     water      ice         1.7        120.0   \n",
            "90       91   Cloyster       2     water      ice         1.5        132.5   \n",
            "94       95       Onix       2      rock   ground         8.8        210.0   \n",
            "102     103  Exeggutor       2     grass  psychic         2.0        120.0   \n",
            "110     111    Rhyhorn       2    ground     rock         1.0        115.0   \n",
            "111     112     Rhydon       2    ground     rock         1.9        120.0   \n",
            "129     130   Gyarados       2     water   flying         6.5        235.0   \n",
            "130     131     Lapras       2     water      ice         2.5        220.0   \n",
            "142     143    Snorlax       1    normal      NaN         2.1        460.0   \n",
            "148     149  Dragonite       2    dragon   flying         2.2        210.0   \n",
            "149     150     Mewtwo       1   psychic      NaN         2.0        122.0   \n",
            "\n",
            "      Male_Pct   Female_Pct   Capt_Rate  ...   Poison_Dmg  Ground_Dmg  \\\n",
            "58        75.0         25.0          75  ...         1.00         2.0   \n",
            "67        75.0         25.0          45  ...         1.00         1.0   \n",
            "74        50.0         50.0         120  ...         0.25         2.0   \n",
            "75        50.0         50.0          45  ...         0.25         2.0   \n",
            "86        50.0         50.0          75  ...         1.00         1.0   \n",
            "90        50.0         50.0          60  ...         1.00         1.0   \n",
            "94        50.0         50.0          45  ...         0.25         2.0   \n",
            "102       50.0         50.0          45  ...         2.00         0.5   \n",
            "110       50.0         50.0         120  ...         0.25         2.0   \n",
            "111       50.0         50.0          60  ...         0.25         2.0   \n",
            "129       50.0         50.0          45  ...         1.00         0.0   \n",
            "130       50.0         50.0          45  ...         1.00         1.0   \n",
            "142       87.5         12.5          25  ...         1.00         1.0   \n",
            "148       50.0         50.0          45  ...         1.00         0.0   \n",
            "149        0.0          0.0           3  ...         1.00         1.0   \n",
            "\n",
            "      Flying_Dmg   Psychic_Dmg   Bug_Dmg   Rock_Dmg   Ghost_Dmg   Dragon_Dmg  \\\n",
            "58           1.0           1.0       0.5        2.0           1            1   \n",
            "67           2.0           2.0       0.5        0.5           1            1   \n",
            "74           0.5           1.0       1.0        0.5           1            1   \n",
            "75           0.5           1.0       1.0        0.5           1            1   \n",
            "86           1.0           1.0       1.0        2.0           1            1   \n",
            "90           1.0           1.0       1.0        2.0           1            1   \n",
            "94           0.5           1.0       1.0        0.5           1            1   \n",
            "102          2.0           0.5       4.0        1.0           0            1   \n",
            "110          0.5           1.0       1.0        0.5           1            1   \n",
            "111          0.5           1.0       1.0        0.5           1            1   \n",
            "129          1.0           1.0       0.5        2.0           1            1   \n",
            "130          1.0           1.0       1.0        2.0           1            1   \n",
            "142          1.0           1.0       1.0        1.0           0            1   \n",
            "148          1.0           1.0       0.5        2.0           1            2   \n",
            "149          1.0           0.5       2.0        1.0           0            1   \n",
            "\n",
            "      Evolutions  Legendary  \n",
            "58             1          0  \n",
            "67             2          0  \n",
            "74             2          0  \n",
            "75             2          0  \n",
            "86             1          0  \n",
            "90             1          0  \n",
            "94             0          0  \n",
            "102            1          0  \n",
            "110            1          0  \n",
            "111            1          0  \n",
            "129            1          0  \n",
            "130            0          0  \n",
            "142            0          0  \n",
            "148            2          0  \n",
            "149            0          1  \n",
            "\n",
            "[15 rows x 35 columns]\n"
          ]
        }
      ]
    },
    {
      "cell_type": "code",
      "source": [
        "import pandas as pd\n",
        "\n",
        "df = pd.read_csv(\"/content/FirstGenPokemon.csv\")\n",
        "\n",
        "   # Filtering = Keeping the rows that match a condition\n",
        "\n",
        "legendary_pokemon = df[df[\"Legendary\"] == 1]\n",
        "\n",
        "print(legendary_pokemon)"
      ],
      "metadata": {
        "colab": {
          "base_uri": "https://localhost:8080/"
        },
        "id": "pMcv7t0KDmE9",
        "outputId": "4dcb207f-a533-4ee3-9860-2be1f7005d95"
      },
      "execution_count": 7,
      "outputs": [
        {
          "output_type": "stream",
          "name": "stdout",
          "text": [
            "     Number      Name   Types     Type1   Type2   Height(m)   Weight(kg)  \\\n",
            "143     144  Articuno       2       ice  flying         1.7         55.4   \n",
            "144     145    Zapdos       2  electric  flying         1.6         52.6   \n",
            "145     146   Moltres       2      fire  flying         2.0         60.0   \n",
            "149     150    Mewtwo       1   psychic     NaN         2.0        122.0   \n",
            "150     151       Mew       1   psychic     NaN         0.4          4.0   \n",
            "\n",
            "      Male_Pct   Female_Pct   Capt_Rate  ...   Poison_Dmg  Ground_Dmg  \\\n",
            "143        0.0          0.0           3  ...          1.0         0.0   \n",
            "144        0.0          0.0           3  ...          1.0         0.0   \n",
            "145        0.0          0.0           3  ...          1.0         0.0   \n",
            "149        0.0          0.0           3  ...          1.0         1.0   \n",
            "150        0.0          0.0          45  ...          1.0         1.0   \n",
            "\n",
            "      Flying_Dmg   Psychic_Dmg   Bug_Dmg   Rock_Dmg   Ghost_Dmg   Dragon_Dmg  \\\n",
            "143          1.0           1.0      0.50        4.0           1            1   \n",
            "144          0.5           1.0      0.50        2.0           1            1   \n",
            "145          1.0           1.0      0.25        4.0           1            1   \n",
            "149          1.0           0.5      2.00        1.0           0            1   \n",
            "150          1.0           0.5      2.00        1.0           0            1   \n",
            "\n",
            "      Evolutions  Legendary  \n",
            "143            0          1  \n",
            "144            0          1  \n",
            "145            0          1  \n",
            "149            0          1  \n",
            "150            0          1  \n",
            "\n",
            "[5 rows x 35 columns]\n"
          ]
        }
      ]
    },
    {
      "cell_type": "code",
      "source": [
        "import pandas as pd\n",
        "\n",
        "df = pd.read_csv(\"/content/FirstGenPokemon.csv\")\n",
        "\n",
        "   # Filtering = Keeping the rows that match a condition\n",
        "\n",
        "water_pokemon = df[df[\" Type1\"] == \"water\"]\n",
        "\n",
        "print(water_pokemon)"
      ],
      "metadata": {
        "colab": {
          "base_uri": "https://localhost:8080/"
        },
        "id": "_1WeQq3gETbt",
        "outputId": "4daed06d-0846-40cb-96a8-4fda0c884834"
      },
      "execution_count": 11,
      "outputs": [
        {
          "output_type": "stream",
          "name": "stdout",
          "text": [
            "     Number        Name   Types  Type1     Type2   Height(m)   Weight(kg)  \\\n",
            "6         7    Squirtle       1  water       NaN         0.5          9.0   \n",
            "7         8   Wartortle       1  water       NaN         1.0         22.5   \n",
            "8         9   Blastoise       1  water       NaN         1.6         85.5   \n",
            "53       54     Psyduck       1  water       NaN         0.8         19.6   \n",
            "54       55     Golduck       1  water       NaN         1.7         76.6   \n",
            "59       60     Poliwag       1  water       NaN         0.6         12.4   \n",
            "60       61   Poliwhirl       1  water       NaN         1.0         20.0   \n",
            "61       62   Poliwrath       2  water  fighting         1.3         54.0   \n",
            "71       72   Tentacool       2  water    poison         0.9         45.5   \n",
            "72       73  Tentacruel       2  water    poison         1.6         55.0   \n",
            "78       79    Slowpoke       2  water   psychic         1.2         36.0   \n",
            "79       80     Slowbro       2  water   psychic         1.6         78.5   \n",
            "85       86        Seel       1  water       NaN         1.1         90.0   \n",
            "86       87     Dewgong       2  water       ice         1.7        120.0   \n",
            "89       90    Shellder       1  water       NaN         0.3          4.0   \n",
            "90       91    Cloyster       2  water       ice         1.5        132.5   \n",
            "97       98      Krabby       1  water       NaN         0.4          6.5   \n",
            "98       99     Kingler       1  water       NaN         1.3         60.0   \n",
            "115     116      Horsea       1  water       NaN         0.4          8.0   \n",
            "116     117      Seadra       1  water       NaN         1.2         25.0   \n",
            "117     118     Goldeen       1  water       NaN         0.6         15.0   \n",
            "118     119     Seaking       1  water       NaN         1.3         39.0   \n",
            "119     120      Staryu       1  water       NaN         0.8         34.5   \n",
            "120     121     Starmie       2  water   psychic         1.1         80.0   \n",
            "128     129    Magikarp       1  water       NaN         0.9         10.0   \n",
            "129     130    Gyarados       2  water    flying         6.5        235.0   \n",
            "130     131      Lapras       2  water       ice         2.5        220.0   \n",
            "133     134    Vaporeon       1  water       NaN         1.0         29.0   \n",
            "\n",
            "      Male_Pct   Female_Pct   Capt_Rate  ...   Poison_Dmg  Ground_Dmg  \\\n",
            "6         87.5         12.5          45  ...          1.0         1.0   \n",
            "7         87.5         12.5          45  ...          1.0         1.0   \n",
            "8         87.5         12.5          45  ...          1.0         1.0   \n",
            "53        50.0         50.0         190  ...          1.0         1.0   \n",
            "54        50.0         50.0          75  ...          1.0         1.0   \n",
            "59        50.0         50.0         255  ...          1.0         1.0   \n",
            "60        50.0         50.0         120  ...          1.0         1.0   \n",
            "61        50.0         50.0          45  ...          1.0         1.0   \n",
            "71        50.0         50.0         190  ...          0.5         2.0   \n",
            "72        50.0         50.0          60  ...          0.5         2.0   \n",
            "78        50.0         50.0         190  ...          1.0         1.0   \n",
            "79        50.0         50.0          75  ...          1.0         1.0   \n",
            "85        50.0         50.0         190  ...          1.0         1.0   \n",
            "86        50.0         50.0          75  ...          1.0         1.0   \n",
            "89        50.0         50.0         190  ...          1.0         1.0   \n",
            "90        50.0         50.0          60  ...          1.0         1.0   \n",
            "97        50.0         50.0         225  ...          1.0         1.0   \n",
            "98        50.0         50.0          60  ...          1.0         1.0   \n",
            "115       50.0         50.0         225  ...          1.0         1.0   \n",
            "116       50.0         50.0          75  ...          1.0         1.0   \n",
            "117       50.0         50.0         225  ...          1.0         1.0   \n",
            "118       50.0         50.0          60  ...          1.0         1.0   \n",
            "119        0.0          0.0         225  ...          1.0         1.0   \n",
            "120        0.0          0.0          60  ...          1.0         1.0   \n",
            "128       50.0         50.0         255  ...          1.0         1.0   \n",
            "129       50.0         50.0          45  ...          1.0         0.0   \n",
            "130       50.0         50.0          45  ...          1.0         1.0   \n",
            "133       87.5         12.5          45  ...          1.0         1.0   \n",
            "\n",
            "      Flying_Dmg   Psychic_Dmg   Bug_Dmg   Rock_Dmg   Ghost_Dmg   Dragon_Dmg  \\\n",
            "6            1.0           1.0       1.0        1.0           1            1   \n",
            "7            1.0           1.0       1.0        1.0           1            1   \n",
            "8            1.0           1.0       1.0        1.0           1            1   \n",
            "53           1.0           1.0       1.0        1.0           1            1   \n",
            "54           1.0           1.0       1.0        1.0           1            1   \n",
            "59           1.0           1.0       1.0        1.0           1            1   \n",
            "60           1.0           1.0       1.0        1.0           1            1   \n",
            "61           2.0           2.0       0.5        0.5           1            1   \n",
            "71           1.0           2.0       2.0        1.0           1            1   \n",
            "72           1.0           2.0       2.0        1.0           1            1   \n",
            "78           1.0           0.5       2.0        1.0           0            1   \n",
            "79           1.0           0.5       2.0        1.0           0            1   \n",
            "85           1.0           1.0       1.0        1.0           1            1   \n",
            "86           1.0           1.0       1.0        2.0           1            1   \n",
            "89           1.0           1.0       1.0        1.0           1            1   \n",
            "90           1.0           1.0       1.0        2.0           1            1   \n",
            "97           1.0           1.0       1.0        1.0           1            1   \n",
            "98           1.0           1.0       1.0        1.0           1            1   \n",
            "115          1.0           1.0       1.0        1.0           1            1   \n",
            "116          1.0           1.0       1.0        1.0           1            1   \n",
            "117          1.0           1.0       1.0        1.0           1            1   \n",
            "118          1.0           1.0       1.0        1.0           1            1   \n",
            "119          1.0           1.0       1.0        1.0           1            1   \n",
            "120          1.0           0.5       2.0        1.0           0            1   \n",
            "128          1.0           1.0       1.0        1.0           1            1   \n",
            "129          1.0           1.0       0.5        2.0           1            1   \n",
            "130          1.0           1.0       1.0        2.0           1            1   \n",
            "133          1.0           1.0       1.0        1.0           1            1   \n",
            "\n",
            "      Evolutions  Legendary  \n",
            "6              2          0  \n",
            "7              2          0  \n",
            "8              2          0  \n",
            "53             1          0  \n",
            "54             1          0  \n",
            "59             2          0  \n",
            "60             2          0  \n",
            "61             2          0  \n",
            "71             1          0  \n",
            "72             1          0  \n",
            "78             1          0  \n",
            "79             1          0  \n",
            "85             1          0  \n",
            "86             1          0  \n",
            "89             1          0  \n",
            "90             1          0  \n",
            "97             1          0  \n",
            "98             1          0  \n",
            "115            1          0  \n",
            "116            1          0  \n",
            "117            1          0  \n",
            "118            1          0  \n",
            "119            1          0  \n",
            "120            1          0  \n",
            "128            1          0  \n",
            "129            1          0  \n",
            "130            0          0  \n",
            "133            3          0  \n",
            "\n",
            "[28 rows x 35 columns]\n"
          ]
        }
      ]
    },
    {
      "cell_type": "code",
      "source": [],
      "metadata": {
        "id": "Jqm1bwtoFHZg"
      },
      "execution_count": null,
      "outputs": []
    }
  ]
}